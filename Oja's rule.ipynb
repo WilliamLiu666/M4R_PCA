{
 "cells": [
  {
   "cell_type": "markdown",
   "id": "atlantic-hindu",
   "metadata": {},
   "source": [
    "# Oja's rule"
   ]
  },
  {
   "cell_type": "markdown",
   "id": "diverse-experience",
   "metadata": {},
   "source": [
    "Import the packages"
   ]
  },
  {
   "cell_type": "code",
   "execution_count": 1,
   "id": "polished-maria",
   "metadata": {},
   "outputs": [],
   "source": [
    "from sklearn.decomposition import PCA\n",
    "import numpy as np\n",
    "from sklearn import datasets\n",
    "import matplotlib.pyplot as plt\n",
    "import time"
   ]
  },
  {
   "cell_type": "markdown",
   "id": "mysterious-operator",
   "metadata": {},
   "source": [
    "Generate data. The number of data is nrow and the dimension of data is ncol+2."
   ]
  },
  {
   "cell_type": "code",
   "execution_count": 2,
   "id": "bulgarian-differential",
   "metadata": {},
   "outputs": [],
   "source": [
    "def gen_data(nrow,ncol):\n",
    "    x=datasets.make_moons(n_samples=nrow)[0]\n",
    "    y=np.zeros((nrow,ncol))#zeros \n",
    "    x=np.concatenate((x,y),axis=1)#extend to higher dimensions\n",
    "    x=x-np.mean(x,axis=0)#centralise\n",
    "    return x"
   ]
  },
  {
   "cell_type": "markdown",
   "id": "8ba26a25",
   "metadata": {},
   "source": [
    "Randomly generate an thogoal matrix V as the initial V."
   ]
  },
  {
   "cell_type": "code",
   "execution_count": 3,
   "id": "1015aba7",
   "metadata": {},
   "outputs": [],
   "source": [
    "def init_V(ncol):\n",
    "    \n",
    "    V = np.random.randn(ncol+2,2)\n",
    "    V,_ = np.linalg.qr(V, mode='reduced')\n",
    "\n",
    "    return V"
   ]
  },
  {
   "cell_type": "markdown",
   "id": "bearing-prototype",
   "metadata": {},
   "source": [
    "### The Oja's Algorithm\n",
    "\n",
    "For i in 1,2,3,....\\\n",
    "\\\n",
    "$V_i=V_{i-1}+\\eta x_i^Tx_iV_{i-1}$\\\n",
    "QR factorise $V_i$, $QR=V_i$\\\n",
    "$V_i=Q$\n",
    "    "
   ]
  },
  {
   "cell_type": "code",
   "execution_count": 4,
   "id": "acceptable-ambassador",
   "metadata": {},
   "outputs": [],
   "source": [
    "def oja(X, V, eta, V_true):\n",
    "    \n",
    "    t,length = X.shape\n",
    "    \n",
    "    for i in range(t):\n",
    "        \n",
    "        temp=X[i,:]\n",
    "        V += eta*np.outer(temp,temp)@V #step 1\n",
    "\n",
    "        V,_ = np.linalg.qr(V, mode='reduced') #step 2 and step 3\n",
    "        \n",
    "        error = np.linalg.norm(np.abs(V)-np.abs(V_true)) #Since the sign may change, take the difference between abs value\n",
    "        \n",
    "    return V,error"
   ]
  },
  {
   "cell_type": "markdown",
   "id": "looking-opinion",
   "metadata": {},
   "source": [
    "### PCA function in sklearn"
   ]
  },
  {
   "cell_type": "code",
   "execution_count": 5,
   "id": "bored-difficulty",
   "metadata": {},
   "outputs": [],
   "source": [
    "def true_pca(x,ncol):\n",
    "    pca_start = time.time()\n",
    "    pca = PCA(n_components=(ncol+2))\n",
    "    pca.fit(x)\n",
    "    pca_end = time.time()\n",
    "    print('Time taken for PCA',pca_end-pca_start)\n",
    "    print('varaince ratio:')\n",
    "    print(pca.explained_variance_ratio_[:5])\n",
    "    \n",
    "    return pca.components_[:,:2]"
   ]
  },
  {
   "cell_type": "markdown",
   "id": "dangerous-finland",
   "metadata": {},
   "source": [
    "### Plot the error"
   ]
  },
  {
   "cell_type": "code",
   "execution_count": 6,
   "id": "39cb6ca6",
   "metadata": {},
   "outputs": [
    {
     "name": "stdout",
     "output_type": "stream",
     "text": [
      "Time taken for PCA 0.42887043952941895\n",
      "varaince ratio:\n",
      "[8.20182879e-01 1.79817121e-01 7.53182657e-33 7.53182657e-33\n",
      " 7.53182657e-33]\n"
     ]
    },
    {
     "data": {
      "image/png": "[encoded data removed]",
      "text/plain": [
       "<Figure size 432x288 with 1 Axes>"
      ]
     },
     "metadata": {
      "needs_background": "light"
     },
     "output_type": "display_data"
    }
   ],
   "source": [
    "def error_plot():\n",
    "    nrow=100000\n",
    "    ncol=100\n",
    "    \n",
    "    x=gen_data(nrow,ncol)\n",
    "    V=init_V(ncol)\n",
    "    V_true = true_pca(x,ncol)\n",
    "    error_list=[]\n",
    "    \n",
    "    for i in range(10):\n",
    "        \n",
    "        V, error = oja(x[i*10000:(i+1)*10000,:], V ,0.001, V_true)\n",
    "        error_list.append(error)\n",
    "    \n",
    "    plt.plot([i*10000 for i in range(1,11)],error_list)\n",
    "    plt.show()\n",
    "    \n",
    "    return V,V_true\n",
    "    \n",
    "pca,pca_true = error_plot()\n",
    "    "
   ]
  },
  {
   "cell_type": "markdown",
   "id": "theoretical-daisy",
   "metadata": {},
   "source": [
    "## Rotation\n"
   ]
  },
  {
   "cell_type": "code",
   "execution_count": 7,
   "id": "6b95671c",
   "metadata": {},
   "outputs": [
    {
     "data": {
      "image/png": "[encoded data removed]",
      "text/plain": [
       "<Figure size 432x288 with 1 Axes>"
      ]
     },
     "metadata": {
      "needs_background": "light"
     },
     "output_type": "display_data"
    }
   ],
   "source": [
    "from scipy.stats import special_ortho_group\n",
    "\n",
    "def error_plot_rotated():\n",
    "    np.random.seed(999999)\n",
    "    nrow=200000\n",
    "    ncol=100\n",
    "    \n",
    "    x = gen_data(nrow,ncol)\n",
    "    r = special_ortho_group.rvs(ncol+2)\n",
    "    x = r@x.T\n",
    "    x = x.T\n",
    "    V = init_V(ncol)\n",
    "    V_true = np.dot(r,pca_true)\n",
    "    error_list=[]\n",
    "    \n",
    "    for i in range(20):\n",
    "        \n",
    "        V, error = oja(x[i*10000:(i+1)*10000,:], V ,0.001, V_true)\n",
    "        error_list.append(error)\n",
    "    \n",
    "    plt.plot([i*10000 for i in range(1,21)],error_list)\n",
    "    plt.title('difference between Oja\\' rule and rotated PCA')\n",
    "    plt.show()\n",
    "    \n",
    "    return V\n",
    "    \n",
    "pca_r = error_plot_rotated()"
   ]
  },
  {
   "cell_type": "code",
   "execution_count": 8,
   "id": "chemical-introduction",
   "metadata": {
    "scrolled": true
   },
   "outputs": [
    {
     "name": "stdout",
     "output_type": "stream",
     "text": [
      "Time taken for PCA 0.9803464412689209\n",
      "varaince ratio:\n",
      "[8.20183125e-01 1.79816875e-01 4.96884636e-30 7.57804778e-31\n",
      " 6.57026058e-31]\n"
     ]
    },
    {
     "data": {
      "image/png": "[encoded data removed]",
      "text/plain": [
       "<Figure size 432x288 with 1 Axes>"
      ]
     },
     "metadata": {
      "needs_background": "light"
     },
     "output_type": "display_data"
    }
   ],
   "source": [
    "def error_plot_rotated_2():\n",
    "    np.random.seed(999999)\n",
    "    nrow=200000\n",
    "    ncol=100\n",
    "    \n",
    "    x = gen_data(nrow,ncol)\n",
    "    r = special_ortho_group.rvs(ncol+2)\n",
    "    x = r@x.T\n",
    "    x = x.T\n",
    "    V = init_V(ncol)\n",
    "    V_true = true_pca(x,ncol)\n",
    "    error_list=[]\n",
    "    \n",
    "    for i in range(20):\n",
    "        \n",
    "        V, error = oja(x[i*10000:(i+1)*10000,:], V ,0.001, V_true)\n",
    "        error_list.append(error)\n",
    "    \n",
    "    plt.plot([i*10000 for i in range(1,21)],error_list)\n",
    "    plt.title('difference between Oja\\' rule and built-in PCA')\n",
    "    plt.show()\n",
    "    \n",
    "    return V,V_true,r\n",
    "    \n",
    "pca_r,pca_true_r,r = error_plot_rotated_2()"
   ]
  },
  {
   "cell_type": "markdown",
   "id": "a426408a",
   "metadata": {},
   "source": [
    "This is what quite confused me. In the previous section, I have computed the principle components, $v_1$ and $v_2$, of the pre-rotated dataset which are the same as the one computed by the built-in pca function. In the next setion, after applied a rotation matrix to the dataset, I got 2 new principle components, $v'_1$ and $v'_2$. The following computation shows that $v'_1=R v_1$ and $v'_2=R v_2$, where $R$ is the rotation matrix.However, this not the same as the true PCA computed by the built-in function."
   ]
  },
  {
   "cell_type": "code",
   "execution_count": 9,
   "id": "9e3e0641",
   "metadata": {},
   "outputs": [
    {
     "name": "stdout",
     "output_type": "stream",
     "text": [
      "0.8016401322881468\n"
     ]
    }
   ],
   "source": [
    "rotated_pca = np.dot(r,pca_true)\n",
    "difference = np.linalg.norm(np.abs(rotated_pca)-np.abs(pca_r))#PCA from Oja's rule\n",
    "print(difference)"
   ]
  },
  {
   "cell_type": "code",
   "execution_count": 10,
   "id": "dfcfbfb8",
   "metadata": {},
   "outputs": [
    {
     "name": "stdout",
     "output_type": "stream",
     "text": [
      "1.6151155252713767\n"
     ]
    }
   ],
   "source": [
    "rotated_pca = np.dot(r,pca_true)\n",
    "difference = np.linalg.norm(np.abs(rotated_pca)-np.abs(pca_true_r))#PCA from built-in function\n",
    "print(difference)"
   ]
  }
 ],
 "metadata": {
  "kernelspec": {
   "display_name": "Python 3 (ipykernel)",
   "language": "python",
   "name": "python3"
  },
  "language_info": {
   "codemirror_mode": {
    "name": "ipython",
    "version": 3
   },
   "file_extension": ".py",
   "mimetype": "text/x-python",
   "name": "python",
   "nbconvert_exporter": "python",
   "pygments_lexer": "ipython3",
   "version": "3.9.7"
  }
 },
 "nbformat": 4,
 "nbformat_minor": 5
}
