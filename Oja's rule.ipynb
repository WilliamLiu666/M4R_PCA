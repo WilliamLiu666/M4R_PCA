{
 "cells": [
  {
   "cell_type": "markdown",
   "id": "atlantic-hindu",
   "metadata": {},
   "source": [
    "# Oja's rule"
   ]
  },
  {
   "cell_type": "markdown",
   "id": "diverse-experience",
   "metadata": {},
   "source": [
    "Import the packages"
   ]
  },
  {
   "cell_type": "code",
   "execution_count": 10,
   "id": "polished-maria",
   "metadata": {},
   "outputs": [],
   "source": [
    "from sklearn.decomposition import PCA\n",
    "import numpy as np\n",
    "from sklearn import datasets\n",
    "import matplotlib.pyplot as plt\n",
    "import time"
   ]
  },
  {
   "cell_type": "markdown",
   "id": "mysterious-operator",
   "metadata": {},
   "source": [
    "Load the data and standardise the data. The data is 100000 $\\times$ 6 matrix. In each row, the first two entries represent the x,y coordinate of the point and the rest entries are 0 which contain no information."
   ]
  },
  {
   "cell_type": "code",
   "execution_count": 26,
   "id": "bulgarian-differential",
   "metadata": {},
   "outputs": [
    {
     "data": {
      "image/png": "[encoded data removed]",
      "text/plain": [
       "<Figure size 432x288 with 1 Axes>"
      ]
     },
     "metadata": {
      "needs_background": "light"
     },
     "output_type": "display_data"
    }
   ],
   "source": [
    "x=datasets.make_moons(n_samples=1000000)[0]\n",
    "y=np.zeros((1000000,4))\n",
    "x=np.concatenate((x,y),axis=1)\n",
    "x=x-np.mean(x,axis=0)\n",
    "\n",
    "plt.plot(x[:,0],x[:,1],'.')\n",
    "plt.show()"
   ]
  },
  {
   "cell_type": "markdown",
   "id": "bearing-prototype",
   "metadata": {},
   "source": [
    "### The Oja's Algorithm\n",
    "\n",
    "For i in 1,2,3,....\\\n",
    "\\\n",
    "$V_i=V_{i-1}+\\eta x_i^Tx_iV_{i-1}$\\\n",
    "QR factorise $V_i$, $QR=V_i$\\\n",
    "$V_i=Q$\n",
    "    "
   ]
  },
  {
   "cell_type": "code",
   "execution_count": 51,
   "id": "acceptable-ambassador",
   "metadata": {},
   "outputs": [],
   "source": [
    "def oja(X,eta):\n",
    "    \n",
    "    t,length = X.shape\n",
    "    V = np.random.randn(length,2)\n",
    "    V,_ = np.linalg.qr(V, mode='reduced')\n",
    "    Vp = V.copy()\n",
    "    \n",
    "    for i in range(t):\n",
    "        temp=X[i,:]\n",
    "        temp=temp.reshape((1,len(temp)))\n",
    "        V += eta*np.dot(temp.T,temp)@V\n",
    "        \n",
    "        if np.linalg.norm(Vp-V)/np.linalg.norm(V) <1e-6:\n",
    "            break\n",
    "        else:\n",
    "            Vp=V.copy()\n",
    "        \n",
    "        V,_ = np.linalg.qr(V, mode='reduced')\n",
    "        \n",
    "    return V"
   ]
  },
  {
   "cell_type": "markdown",
   "id": "dangerous-finland",
   "metadata": {},
   "source": [
    "### PCA computed by the Oja's method"
   ]
  },
  {
   "cell_type": "code",
   "execution_count": 52,
   "id": "hollow-interstate",
   "metadata": {},
   "outputs": [
    {
     "name": "stdout",
     "output_type": "stream",
     "text": [
      "Time taken for Oja 47.1794159412384\n",
      "[[-9.49079736e-001 -3.15123627e-001]\n",
      " [ 3.15035966e-001 -9.49338722e-001]\n",
      " [ 1.00669947e-244  1.57005073e-054]\n",
      " [-9.45132993e-245  1.62059632e-055]\n",
      " [ 3.68924666e-244  8.94728398e-055]\n",
      " [ 8.87177293e-245 -3.40919308e-055]]\n"
     ]
    }
   ],
   "source": [
    "oja_start = time.time()\n",
    "oja_pca=oja(X = x,eta = 0.001)\n",
    "oja_end = time.time()\n",
    "print('Time taken for Oja',oja_end-oja_start)\n",
    "print(oja_pca)"
   ]
  },
  {
   "cell_type": "markdown",
   "id": "looking-opinion",
   "metadata": {},
   "source": [
    "### PCA function in sklearn"
   ]
  },
  {
   "cell_type": "code",
   "execution_count": 48,
   "id": "bored-difficulty",
   "metadata": {},
   "outputs": [
    {
     "name": "stdout",
     "output_type": "stream",
     "text": [
      "Time taken for PCA 0.16864442825317383\n",
      "varaince ratio:\n",
      "[0.82018332 0.17981668 0.         0.         0.         0.        ]\n",
      "princeple component:\n",
      "[[ 0.94723096 -0.32055188  0.          0.          0.          0.        ]\n",
      " [-0.32055188 -0.94723096 -0.         -0.         -0.         -0.        ]\n",
      " [ 0.          0.          0.          0.          1.          0.        ]\n",
      " [ 0.          0.          0.          0.          0.          1.        ]\n",
      " [ 0.          0.          0.          1.          0.          0.        ]\n",
      " [ 0.          0.          1.          0.          0.          0.        ]]\n"
     ]
    }
   ],
   "source": [
    "pca_start = time.time()\n",
    "pca = PCA(n_components=6)\n",
    "pca.fit(x)\n",
    "pca_end = time.time()\n",
    "print('Time taken for PCA',pca_end-pca_start)\n",
    "print('varaince ratio:')\n",
    "print(pca.explained_variance_ratio_)\n",
    "print('princeple component:')\n",
    "print(pca.components_)"
   ]
  },
  {
   "cell_type": "code",
   "execution_count": null,
   "id": "final-thailand",
   "metadata": {},
   "outputs": [],
   "source": []
  }
 ],
 "metadata": {
  "kernelspec": {
   "display_name": "Python 3",
   "language": "python",
   "name": "python3"
  },
  "language_info": {
   "codemirror_mode": {
    "name": "ipython",
    "version": 3
   },
   "file_extension": ".py",
   "mimetype": "text/x-python",
   "name": "python",
   "nbconvert_exporter": "python",
   "pygments_lexer": "ipython3",
   "version": "3.7.9"
  }
 },
 "nbformat": 4,
 "nbformat_minor": 5
}
