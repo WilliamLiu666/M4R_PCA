{
 "cells": [
  {
   "cell_type": "code",
   "execution_count": 1,
   "id": "393eb9a8",
   "metadata": {},
   "outputs": [],
   "source": [
    "import numpy as np\n",
    "import matplotlib.pyplot as plt\n",
    "from sklearn.cross_decomposition import CCA\n",
    "import scipy"
   ]
  },
  {
   "cell_type": "markdown",
   "id": "5e9f0aa6",
   "metadata": {},
   "source": [
    "$$\n",
    "a^TX^TYb+\\lambda_1(a^TX^TXa-I)+\\lambda_2(b^TY^TYb-I)\\\\\n",
    "\\frac{dC}{da}=X^TYb+\\lambda_1(X^TXa)\\\\\n",
    "\\frac{dC}{db}=Y^TXa+\\lambda_2(Y^TYb)\\\\\n",
    "\\frac{dC}{d\\lambda_1}=a^TX^TXa-I\\\\\n",
    "\\frac{dC}{d\\lambda_2}=b^TY^TYb-I\n",
    "$$"
   ]
  },
  {
   "cell_type": "code",
   "execution_count": 14,
   "id": "167cfef0",
   "metadata": {},
   "outputs": [],
   "source": [
    "def streamingCCA(X,Y,n):\n",
    "    \n",
    "    length,m = X.shape\n",
    "    \n",
    "    a = np.random.randn(m,n)\n",
    "    a,_ = np.linalg.qr(a, mode='reduced')\n",
    "    b = np.random.randn(m,n)\n",
    "    b,_ = np.linalg.qr(b, mode='reduced')\n",
    "    \n",
    "    l1 = 0.4\n",
    "    l2 = 0.4\n",
    "    \n",
    "    list1 = []\n",
    "    list2 = []\n",
    "    \n",
    "    corr_list = np.zeros((n,499))\n",
    "    \n",
    "    covx = np.zeros((m,m))\n",
    "    covy = np.zeros((m,m))\n",
    "    \n",
    "    eta1 = 0.025\n",
    "    eta2 = 0.0005\n",
    "    \n",
    "    c11 = []\n",
    "    c22 = []\n",
    "    c12 = []\n",
    "    \n",
    "    for i in range(112800):\n",
    "        \n",
    "        x = X[i,:]\n",
    "        y = Y[i,:]\n",
    "        \n",
    "        c12.append(np.outer(x,y))\n",
    "        c11.append(np.outer(x,x))\n",
    "        c22.append(np.outer(y,y))\n",
    "        \n",
    "    for j in range(0,499):\n",
    "        for i in range(500):\n",
    "    \n",
    "            ind = (j*500+i)%112800\n",
    "            \n",
    "            a += eta1*(c12[ind]@b-l1*(c11[ind]@a))\n",
    "            b += eta1*(c12[ind].T@a-l2*(c22[ind]@b))\n",
    "            l1 += eta2*(a.T@c11[ind]@a-1)\n",
    "            l2 += eta2*(b.T@c22[ind]@b-1)\n",
    "    \n",
    "        X_s = X@a\n",
    "        Y_s = Y@b    \n",
    "        list1.append(float(l1.copy()))\n",
    "        list2.append(float(l2.copy()))\n",
    "        \n",
    "        for k in range(n):\n",
    "            corr_list[k,j] = np.corrcoef(X_s.T,Y_s.T)[n+k,k]\n",
    "\n",
    "        \n",
    "    return a,b,list1,list2,corr_list"
   ]
  },
  {
   "cell_type": "code",
   "execution_count": 15,
   "id": "bae77efe",
   "metadata": {},
   "outputs": [
    {
     "data": {
      "text/plain": [
       "'\\nl1 = np.random.normal(size=100000)\\nl2 = np.random.normal(size=100000)\\nl3 = np.random.normal(size=100000)\\n\\nlatents = np.array([l1, l1*0.5, l1*0.25, l2*0.7, l2*0.3, l3*0.5]).T\\nX = latents + np.random.normal(size=6 * 100000).reshape((100000, 6))*0.5\\nY = latents + np.random.normal(size=6 * 100000).reshape((100000, 6))*0.5\\n\\nX = X-X.mean(axis=0)\\nY = Y-Y.mean(axis=0)\\n'"
      ]
     },
     "execution_count": 15,
     "metadata": {},
     "output_type": "execute_result"
    }
   ],
   "source": [
    "'''\n",
    "l1 = np.random.normal(size=100000)\n",
    "l2 = np.random.normal(size=100000)\n",
    "l3 = np.random.normal(size=100000)\n",
    "\n",
    "latents = np.array([l1, l1*0.5, l1*0.25, l2*0.7, l2*0.3, l3*0.5]).T\n",
    "X = latents + np.random.normal(size=6 * 100000).reshape((100000, 6))*0.5\n",
    "Y = latents + np.random.normal(size=6 * 100000).reshape((100000, 6))*0.5\n",
    "\n",
    "X = X-X.mean(axis=0)\n",
    "Y = Y-Y.mean(axis=0)\n",
    "'''"
   ]
  },
  {
   "cell_type": "code",
   "execution_count": 16,
   "id": "68a23fac",
   "metadata": {},
   "outputs": [],
   "source": [
    "'''\n",
    "x = tf.keras.datasets.cifar10.load_data()[0][0]\n",
    "x = x.reshape(-1,32*32*3)\n",
    "x = x/255\n",
    "x = (x - x.mean(axis=0))\n",
    "X = x[:,:10]\n",
    "Y = x[:,-10:]\n",
    "'''"
   ]
  },
  {
   "cell_type": "code",
   "execution_count": null,
   "id": "d73cb35a",
   "metadata": {},
   "outputs": [],
   "source": [
    "x = np.load('balanced-MNIST.npy')\n",
    "x = x/255\n",
    "x = (x - x.mean(axis=0))\n",
    "X = x[:,210:215]\n",
    "Y = x[:,540:545]"
   ]
  },
  {
   "cell_type": "code",
   "execution_count": 17,
   "id": "4eefaccc",
   "metadata": {},
   "outputs": [],
   "source": [
    "n=1\n",
    "a,b,list1,list2,corr_list = streamingCCA(X, Y, n)\n",
    "cca = CCA(n_components=n,max_iter=60000)\n",
    "cca.fit(X, Y)\n",
    "X_c, Y_c = cca.transform(X, Y)"
   ]
  },
  {
   "cell_type": "code",
   "execution_count": 18,
   "id": "dace915d",
   "metadata": {},
   "outputs": [
    {
     "data": {
      "image/png": "[encoded data removed]",
      "text/plain": [
       "<Figure size 432x288 with 1 Axes>"
      ]
     },
     "metadata": {
      "needs_background": "light"
     },
     "output_type": "display_data"
    }
   ],
   "source": [
    "for i in range(n):\n",
    "    plt.plot(np.array(list(range(1,500)))*500,corr_list[i,:],label='streaming method {}'.format(i))\n",
    "    plt.plot([100,250000],[np.corrcoef(X_c.T,Y_c.T)[n+i,i],np.corrcoef(X_c.T,Y_c.T)[n+i,i]],label='built-in cca function {}'.format(i))\n",
    "    plt.xlabel('iterations')\n",
    "    plt.ylabel('correlation')\n",
    "    plt.legend()\n",
    "    plt.show()"
   ]
  },
  {
   "cell_type": "code",
   "execution_count": 19,
   "id": "e7844140",
   "metadata": {},
   "outputs": [
    {
     "data": {
      "text/plain": [
       "[<matplotlib.lines.Line2D at 0x262a22ca550>]"
      ]
     },
     "execution_count": 19,
     "metadata": {},
     "output_type": "execute_result"
    },
    {
     "data": {
      "image/png": "[encoded data removed]",
      "text/plain": [
       "<Figure size 432x288 with 1 Axes>"
      ]
     },
     "metadata": {
      "needs_background": "light"
     },
     "output_type": "display_data"
    }
   ],
   "source": [
    "plt.plot(list1)"
   ]
  },
  {
   "cell_type": "code",
   "execution_count": 20,
   "id": "408a5749",
   "metadata": {},
   "outputs": [
    {
     "data": {
      "text/plain": [
       "[<matplotlib.lines.Line2D at 0x26250b2f9a0>]"
      ]
     },
     "execution_count": 20,
     "metadata": {},
     "output_type": "execute_result"
    },
    {
     "data": {
      "image/png": "[encoded data removed]",
      "text/plain": [
       "<Figure size 432x288 with 1 Axes>"
      ]
     },
     "metadata": {
      "needs_background": "light"
     },
     "output_type": "display_data"
    }
   ],
   "source": [
    "plt.plot(list2)"
   ]
  },
  {
   "cell_type": "code",
   "execution_count": 21,
   "id": "2b5a266f",
   "metadata": {},
   "outputs": [
    {
     "data": {
      "text/plain": [
       "array([[0.34229978, 0.3484129 , 0.35328019, 0.27280441, 0.36096676,\n",
       "        0.35973733, 0.36233459, 0.3758244 , 0.39599536, 0.35443999,\n",
       "        0.4038568 , 0.42285634, 0.40428022, 0.36252427, 0.39767686,\n",
       "        0.43133673, 0.42369452, 0.38147394, 0.39137715, 0.40873108,\n",
       "        0.44603465, 0.40925961, 0.3997661 , 0.44496384, 0.44936317,\n",
       "        0.45156247, 0.42350492, 0.44895768, 0.4582141 , 0.4582888 ,\n",
       "        0.45826107, 0.45707817, 0.45308262, 0.4586504 , 0.45623842,\n",
       "        0.45454599, 0.4615785 , 0.45917088, 0.45220417, 0.46059286,\n",
       "        0.46088994, 0.45584331, 0.46672085, 0.45695815, 0.46332686,\n",
       "        0.4415496 , 0.46061935, 0.46558723, 0.4681111 , 0.46697504,\n",
       "        0.46835541, 0.46405651, 0.46428566, 0.45838638, 0.46575082,\n",
       "        0.46609833, 0.45979223, 0.45844325, 0.46876645, 0.46947529,\n",
       "        0.46474711, 0.46993868, 0.46900721, 0.47074917, 0.46434077,\n",
       "        0.46533134, 0.46905454, 0.47281765, 0.46616093, 0.47150903,\n",
       "        0.47186103, 0.4730147 , 0.45522289, 0.47253634, 0.4740215 ,\n",
       "        0.47095656, 0.4738502 , 0.46286001, 0.47627856, 0.47485479,\n",
       "        0.47038645, 0.46306718, 0.47751039, 0.47383345, 0.46704544,\n",
       "        0.47731649, 0.47996958, 0.48026519, 0.476853  , 0.4766074 ,\n",
       "        0.46377366, 0.47061423, 0.46198703, 0.4709632 , 0.47970449,\n",
       "        0.4736793 , 0.47851756, 0.47992334, 0.47850066, 0.47812904,\n",
       "        0.48077099, 0.47270097, 0.47848148, 0.48165294, 0.47785183,\n",
       "        0.48122538, 0.47340994, 0.48029173, 0.478072  , 0.47333669,\n",
       "        0.48097499, 0.48135615, 0.47604346, 0.48065962, 0.48128113,\n",
       "        0.47976239, 0.47989448, 0.47888558, 0.47894034, 0.48051231,\n",
       "        0.48348637, 0.48035492, 0.48171882, 0.48000176, 0.47548962,\n",
       "        0.48322049, 0.48109561, 0.46867948, 0.48122136, 0.47752325,\n",
       "        0.48537922, 0.4841046 , 0.48385227, 0.47805838, 0.4787794 ,\n",
       "        0.47150855, 0.47726936, 0.48460162, 0.48500281, 0.47965301,\n",
       "        0.484443  , 0.47902704, 0.4853963 , 0.48159219, 0.48725836,\n",
       "        0.47505279, 0.48186209, 0.48920759, 0.4898176 , 0.48666885,\n",
       "        0.48808076, 0.48259805, 0.48491588, 0.47592826, 0.48560911,\n",
       "        0.48292583, 0.48378325, 0.48239773, 0.48706734, 0.48670099,\n",
       "        0.4759981 , 0.49050845, 0.48840803, 0.48915105, 0.48182634,\n",
       "        0.48436216, 0.48889445, 0.48938704, 0.4858724 , 0.48942517,\n",
       "        0.49104939, 0.49318564, 0.46819467, 0.49221195, 0.49262824,\n",
       "        0.49191158, 0.49575789, 0.47774025, 0.49525186, 0.49359934,\n",
       "        0.48212147, 0.48124422, 0.49620629, 0.49481261, 0.48891677,\n",
       "        0.49548801, 0.49740437, 0.49837316, 0.4953671 , 0.49501091,\n",
       "        0.49095055, 0.49394368, 0.47460192, 0.49322466, 0.49950335,\n",
       "        0.49465089, 0.49658187, 0.49770691, 0.49431753, 0.49732614,\n",
       "        0.49858148, 0.48925617, 0.49518529, 0.49890096, 0.4972254 ,\n",
       "        0.49891788, 0.49360037, 0.49568656, 0.49791031, 0.48091555,\n",
       "        0.49659473, 0.49634304, 0.49150299, 0.49441939, 0.49738316,\n",
       "        0.48917064, 0.49696036, 0.49246441, 0.49655738, 0.49630925,\n",
       "        0.49778955, 0.49408151, 0.49693549, 0.49653051, 0.49055703,\n",
       "        0.50076115, 0.49629226, 0.48924917, 0.49729481, 0.48537678,\n",
       "        0.49759919, 0.50092151, 0.4992371 , 0.49193612, 0.49607601,\n",
       "        0.48650254, 0.49022132, 0.49321528, 0.49877985, 0.49259141,\n",
       "        0.4989274 , 0.49567601, 0.49793798, 0.49903211, 0.50098002,\n",
       "        0.49379595, 0.50036564, 0.4981731 , 0.50166344, 0.49888682,\n",
       "        0.49685617, 0.4938205 , 0.49879668, 0.49010994, 0.49963121,\n",
       "        0.49665692, 0.50150147, 0.50013325, 0.5018806 , 0.49733628,\n",
       "        0.48452261, 0.5019798 , 0.4991791 , 0.49917133, 0.49408409,\n",
       "        0.49661325, 0.50189474, 0.49635088, 0.49923679, 0.50156367,\n",
       "        0.50536452, 0.5055197 , 0.4877437 , 0.5037463 , 0.4992296 ,\n",
       "        0.50279241, 0.50575504, 0.48708091, 0.50489533, 0.50382167,\n",
       "        0.49083814, 0.49175126, 0.50573129, 0.50523287, 0.50185238,\n",
       "        0.50474195, 0.50407068, 0.50537537, 0.50343198, 0.5030514 ,\n",
       "        0.50526137, 0.50627252, 0.49337864, 0.49666406, 0.5062535 ,\n",
       "        0.50508694, 0.50337147, 0.50490534, 0.50112529, 0.50518411,\n",
       "        0.5049669 , 0.49642584, 0.50157721, 0.50401003, 0.5059757 ,\n",
       "        0.50617444, 0.50210783, 0.50231024, 0.50616292, 0.47265732,\n",
       "        0.49640798, 0.50429183, 0.50189259, 0.50060401, 0.50257799,\n",
       "        0.49363746, 0.50275225, 0.49739779, 0.50283421, 0.50214941,\n",
       "        0.50412553, 0.50077352, 0.50363587, 0.50189741, 0.49614258,\n",
       "        0.50608583, 0.49831413, 0.50018389, 0.50309091, 0.49123266,\n",
       "        0.49992638, 0.50698537, 0.50269652, 0.49484846, 0.50405149,\n",
       "        0.49414854, 0.49612692, 0.49487338, 0.50374073, 0.49830359,\n",
       "        0.50439192, 0.5022124 , 0.5027429 , 0.50431853, 0.50440165,\n",
       "        0.49820735, 0.50695121, 0.4958932 , 0.50229669, 0.50247008,\n",
       "        0.49852413, 0.49775083, 0.50335397, 0.49656931, 0.50426685,\n",
       "        0.50241207, 0.50707361, 0.50591705, 0.50652611, 0.50066871,\n",
       "        0.49106854, 0.50556813, 0.50171342, 0.50384264, 0.49942174,\n",
       "        0.50083334, 0.50629525, 0.49689639, 0.50328423, 0.50481021,\n",
       "        0.50786603, 0.50694166, 0.50060959, 0.50631411, 0.50241758,\n",
       "        0.50668825, 0.50726049, 0.48975657, 0.50654434, 0.50571727,\n",
       "        0.48974141, 0.4959388 , 0.50782896, 0.50737647, 0.50541512,\n",
       "        0.50671764, 0.5050566 , 0.50626791, 0.50489307, 0.5044229 ,\n",
       "        0.50414187, 0.50480242, 0.50350066, 0.49944749, 0.50700157,\n",
       "        0.50732029, 0.50342661, 0.50663333, 0.50382495, 0.50649806,\n",
       "        0.50635119, 0.4975178 , 0.50291162, 0.50403568, 0.50634896,\n",
       "        0.50672076, 0.50316136, 0.50313617, 0.50707741, 0.48619604,\n",
       "        0.49026925, 0.50482319, 0.50697703, 0.50259577, 0.50125979,\n",
       "        0.49687537, 0.50288509, 0.49849116, 0.50382565, 0.50229627,\n",
       "        0.50596866, 0.50428895, 0.50583417, 0.50239746, 0.49707996,\n",
       "        0.50657298, 0.49763653, 0.50290018, 0.50250681, 0.4923695 ,\n",
       "        0.49953687, 0.50778456, 0.50175153, 0.49354372, 0.5061771 ,\n",
       "        0.49682089, 0.49808458, 0.49509692, 0.50509275, 0.50019382,\n",
       "        0.50577157, 0.50351638, 0.50407294, 0.50531475, 0.50459194,\n",
       "        0.4982068 , 0.50773221, 0.4939195 , 0.50148655, 0.50306334,\n",
       "        0.49886814, 0.49883378, 0.50436914, 0.49849989, 0.50520703,\n",
       "        0.50430761, 0.50814119, 0.50739878, 0.50707434, 0.50131484,\n",
       "        0.49311898, 0.50644243, 0.50206463, 0.50576709, 0.50139431,\n",
       "        0.50230278, 0.50729386, 0.49672866, 0.50420488, 0.50541179,\n",
       "        0.50812063, 0.5069813 , 0.50308343, 0.50653212, 0.5035036 ,\n",
       "        0.50756298, 0.50742842, 0.49060832, 0.50677466, 0.50598   ,\n",
       "        0.48838051, 0.49726465, 0.50831986, 0.50791626, 0.50608947,\n",
       "        0.50701495, 0.50538932, 0.50651943, 0.50525898, 0.50479444,\n",
       "        0.50331075, 0.50393049, 0.50520483, 0.5009974 , 0.50737947,\n",
       "        0.50766219, 0.50360753, 0.50700752, 0.50483152]])"
      ]
     },
     "execution_count": 21,
     "metadata": {},
     "output_type": "execute_result"
    }
   ],
   "source": [
    "corr_list"
   ]
  },
  {
   "cell_type": "code",
   "execution_count": 22,
   "id": "1c36a7b8",
   "metadata": {},
   "outputs": [
    {
     "data": {
      "text/plain": [
       "array([[-0.15851244],\n",
       "       [ 0.5073262 ],\n",
       "       [-0.39521732],\n",
       "       [-0.20381149],\n",
       "       [ 0.41594232],\n",
       "       [-0.19128764],\n",
       "       [-0.10905899],\n",
       "       [ 0.45468321],\n",
       "       [-0.30221499],\n",
       "       [-0.01394702]])"
      ]
     },
     "execution_count": 22,
     "metadata": {},
     "output_type": "execute_result"
    }
   ],
   "source": [
    "a/np.linalg.norm(a)"
   ]
  },
  {
   "cell_type": "code",
   "execution_count": 23,
   "id": "598c8b90",
   "metadata": {},
   "outputs": [],
   "source": [
    "cca = CCA(n_components=4,max_iter=60000)\n",
    "cca.fit(X, Y)\n",
    "X_c, Y_c = cca.transform(X, Y)"
   ]
  },
  {
   "cell_type": "code",
   "execution_count": 24,
   "id": "70f1f971",
   "metadata": {},
   "outputs": [
    {
     "data": {
      "text/plain": [
       "array([[-0.2563898 , -0.40495606,  0.74275776, -0.15546582],\n",
       "       [ 0.57588846,  0.0689244 ,  0.44134135, -0.1417876 ],\n",
       "       [-0.38593979,  0.46961894,  0.18321927,  0.02531614],\n",
       "       [ 0.13381262,  0.36070745, -0.16783064, -0.40555727],\n",
       "       [-0.26617248, -0.09148725, -0.11232512,  0.52130766],\n",
       "       [ 0.16268066, -0.35947886, -0.33013176, -0.42868517],\n",
       "       [-0.20037865, -0.41985123, -0.06978522, -0.14091143],\n",
       "       [ 0.46257012,  0.11476371,  0.19001793,  0.40263391],\n",
       "       [-0.29032741,  0.39165367,  0.1667254 , -0.33991377],\n",
       "       [-0.00599216, -0.01322393,  0.0376064 , -0.19381677]])"
      ]
     },
     "execution_count": 24,
     "metadata": {},
     "output_type": "execute_result"
    }
   ],
   "source": [
    "cca.x_weights_"
   ]
  },
  {
   "cell_type": "code",
   "execution_count": 25,
   "id": "e51e64ec",
   "metadata": {},
   "outputs": [
    {
     "data": {
      "text/plain": [
       "0.35293299260113475"
      ]
     },
     "execution_count": 25,
     "metadata": {},
     "output_type": "execute_result"
    }
   ],
   "source": [
    "np.corrcoef(X_c.T,Y_c.T)[2,6]"
   ]
  },
  {
   "cell_type": "code",
   "execution_count": null,
   "id": "6f30076c",
   "metadata": {},
   "outputs": [],
   "source": []
  },
  {
   "cell_type": "code",
   "execution_count": null,
   "id": "0aeaf31a",
   "metadata": {},
   "outputs": [],
   "source": []
  }
 ],
 "metadata": {
  "kernelspec": {
   "display_name": "Python 3 (ipykernel)",
   "language": "python",
   "name": "python3"
  },
  "language_info": {
   "codemirror_mode": {
    "name": "ipython",
    "version": 3
   },
   "file_extension": ".py",
   "mimetype": "text/x-python",
   "name": "python",
   "nbconvert_exporter": "python",
   "pygments_lexer": "ipython3",
   "version": "3.9.7"
  }
 },
 "nbformat": 4,
 "nbformat_minor": 5
}
