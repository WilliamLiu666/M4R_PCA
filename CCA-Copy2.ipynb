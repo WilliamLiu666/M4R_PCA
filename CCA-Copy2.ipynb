{
 "cells": [
  {
   "cell_type": "code",
   "execution_count": 1,
   "id": "691806fa",
   "metadata": {},
   "outputs": [],
   "source": [
    "import numpy as np\n",
    "import matplotlib.pyplot as plt\n",
    "from sklearn.cross_decomposition import CCA\n",
    "import scipy"
   ]
  },
  {
   "cell_type": "code",
   "execution_count": 2,
   "id": "b1628deb",
   "metadata": {},
   "outputs": [],
   "source": [
    "l1 = np.random.normal(size=50000)\n",
    "l2 = np.random.normal(size=50000)\n",
    "\n",
    "latents = np.array([l1, l1*0.5, l1*0.25, l2*0.5]).T\n",
    "X = latents + np.random.normal(size=4 * 50000).reshape((50000, 4))*0.5\n",
    "Y = latents + np.random.normal(size=4 * 50000).reshape((50000, 4))*0.5\n",
    "\n",
    "X = X-X.mean(axis=0)\n",
    "Y = Y-Y.mean(axis=0)"
   ]
  },
  {
   "cell_type": "code",
   "execution_count": 3,
   "id": "6cd1f70a",
   "metadata": {},
   "outputs": [],
   "source": [
    "cca = CCA(n_components=1)\n",
    "cca.fit(X, Y)\n",
    "X_c, Y_c = cca.transform(X, Y)\n",
    "cca_corr = np.corrcoef(X_c.T,Y_c.T)[1,0]"
   ]
  },
  {
   "cell_type": "code",
   "execution_count": 4,
   "id": "d371e441",
   "metadata": {},
   "outputs": [],
   "source": [
    "c12 = X.T@Y\n",
    "c11 = X.T@X\n",
    "c22 = Y.T@Y\n",
    "\n",
    "c11_inv_sqrt = scipy.linalg.inv(scipy.linalg.sqrtm(c11))\n",
    "c22_inv_sqrt = scipy.linalg.inv(scipy.linalg.sqrtm(c22))\n",
    "\n",
    "R = c11_inv_sqrt@c12@c22_inv_sqrt\n",
    "eigenvalue,eigenvector = np.linalg.eig(R.T@R)\n",
    "\n",
    "eigenvalue = abs(eigenvalue)\n",
    "m = max(eigenvalue)\n",
    "ind = list(eigenvalue).index(m)\n",
    "\n",
    "a_t = c11_inv_sqrt@eigenvector[:,ind]\n",
    "a_t = a_t.reshape((len(a_t),1))/np.linalg.norm(a_t)\n",
    "b_t = c22_inv_sqrt@eigenvector[:,ind]\n",
    "b_t = b_t.reshape((len(b_t),1))/np.linalg.norm(b_t)\n",
    "\n",
    "X_t = X@a_t\n",
    "Y_t = Y@b_t\n",
    "\n",
    "my_cca_corr = np.corrcoef(X_t.T,Y_t.T)[1,0]"
   ]
  },
  {
   "cell_type": "code",
   "execution_count": 5,
   "id": "94a03452",
   "metadata": {},
   "outputs": [
    {
     "name": "stdout",
     "output_type": "stream",
     "text": [
      "[[-0.14893857]\n",
      " [ 0.05250311]\n",
      " [ 0.65621388]\n",
      " [ 0.22832375]]\n"
     ]
    }
   ],
   "source": [
    "V = np.random.randn(8,1)\n",
    "V,_ = np.linalg.qr(V, mode='reduced')\n",
    "print(V[:4])\n",
    "U = np.random.randn(8,1)\n",
    "U,_ = np.linalg.qr(U, mode='reduced')\n",
    "\n",
    "beta = 0.000005\n",
    "alpha = 0.000005\n",
    "corr_list = []\n",
    "c11_inv_sqrt = np.zeros((4,4))\n",
    "c22_inv_sqrt = np.zeros((4,4))\n",
    "\n",
    "for j in range(99):\n",
    "    for i in range(500):\n",
    "        \n",
    "        ind = j*500+i\n",
    "        x = X[ind:ind+4,:]\n",
    "        y = Y[ind:ind+4,:]\n",
    "        \n",
    "        c12 = x.T@y\n",
    "        c11 = x.T@x\n",
    "        c22 = y.T@y\n",
    "\n",
    "        A = np.zeros((8,8))\n",
    "        A[:4,4:] = c12\n",
    "        A[4:,:4] = c12.T\n",
    "        \n",
    "        B = np.zeros((8,8))\n",
    "        B[0:4,0:4] = c11\n",
    "        B[4:8,4:8] = c22\n",
    "        \n",
    "        U -= alpha*B@U\n",
    "        V += beta*A@U\n",
    "\n",
    "        V[:4] = V[:4]/np.sqrt(V[:4].T@X[:ind+1,:].T@X[:ind+1,:]@V[:4])\n",
    "        V[4:] = V[4:]/np.sqrt(V[4:].T@Y[:ind+1,:].T@Y[:ind+1,:]@V[4:])\n",
    "    \n",
    "    a = V[:4]\n",
    "    b = V[4:]\n",
    "    X_s = X@a\n",
    "    Y_s = Y@b\n",
    "    \n",
    "    corr_list.append(np.corrcoef(X_s.T,Y_s.T)[1,0])"
   ]
  },
  {
   "cell_type": "code",
   "execution_count": 6,
   "id": "27041b15",
   "metadata": {},
   "outputs": [
    {
     "data": {
      "image/png": "[encoded data removed]",
      "text/plain": [
       "<Figure size 432x288 with 1 Axes>"
      ]
     },
     "metadata": {
      "needs_background": "light"
     },
     "output_type": "display_data"
    }
   ],
   "source": [
    "plt.plot(np.array(list(range(1,100)))*500,corr_list,label='streaming method')\n",
    "plt.plot([500,50000],[my_cca_corr,my_cca_corr],label='my cca function')\n",
    "plt.plot([500,50000],[cca_corr,cca_corr],label='cca function')\n",
    "plt.xlabel('iterations')\n",
    "plt.ylabel('correlation')\n",
    "plt.legend()\n",
    "plt.show()"
   ]
  },
  {
   "cell_type": "code",
   "execution_count": 7,
   "id": "62c83b80",
   "metadata": {},
   "outputs": [
    {
     "name": "stdout",
     "output_type": "stream",
     "text": [
      "[-6.52860228e+04  6.52860228e+04 -1.25095813e+04  1.25095813e+04\n",
      " -8.77866849e+01 -5.48646532e+01  5.48646532e+01  8.77866849e+01]\n",
      "[77569.70101943 12466.18647557 12611.8612747  24981.87434706\n",
      " 77932.71367927 12678.17700056 12363.79423589 25149.5882429 ]\n"
     ]
    }
   ],
   "source": [
    "c12 = X.T@Y\n",
    "c11 = X.T@X\n",
    "c22 = Y.T@Y\n",
    "\n",
    "A = np.zeros((8,8))\n",
    "A[:4,4:] = c12\n",
    "A[4:,:4] = c12.T\n",
    "\n",
    "B = np.zeros((8,8))\n",
    "B[0:4,0:4] = c11\n",
    "B[4:8,4:8] = c22\n",
    "\n",
    "eigenvalue,eigenvector = np.linalg.eig(A)\n",
    "print(eigenvalue)\n",
    "eigenvalue,eigenvector = np.linalg.eig(B)\n",
    "print(eigenvalue)"
   ]
  },
  {
   "cell_type": "code",
   "execution_count": 8,
   "id": "5d6cc5ac",
   "metadata": {},
   "outputs": [
    {
     "data": {
      "text/plain": [
       "array([[ 0.77949606],\n",
       "       [ 0.37315893],\n",
       "       [ 0.1602261 ],\n",
       "       [-0.47693387]])"
      ]
     },
     "execution_count": 8,
     "metadata": {},
     "output_type": "execute_result"
    }
   ],
   "source": [
    "a/np.linalg.norm(a)"
   ]
  },
  {
   "cell_type": "code",
   "execution_count": 9,
   "id": "8db4e08c",
   "metadata": {},
   "outputs": [
    {
     "data": {
      "text/plain": [
       "array([[ 0.94479348],\n",
       "       [ 0.30591809],\n",
       "       [ 0.11737715],\n",
       "       [-0.00141428]])"
      ]
     },
     "execution_count": 9,
     "metadata": {},
     "output_type": "execute_result"
    }
   ],
   "source": [
    "cca.x_weights_"
   ]
  },
  {
   "cell_type": "markdown",
   "id": "9ccd2a58",
   "metadata": {},
   "source": [
    "Av = \\lambda Bv\n",
    "A = "
   ]
  }
 ],
 "metadata": {
  "kernelspec": {
   "display_name": "Python 3 (ipykernel)",
   "language": "python",
   "name": "python3"
  },
  "language_info": {
   "codemirror_mode": {
    "name": "ipython",
    "version": 3
   },
   "file_extension": ".py",
   "mimetype": "text/x-python",
   "name": "python",
   "nbconvert_exporter": "python",
   "pygments_lexer": "ipython3",
   "version": "3.9.7"
  }
 },
 "nbformat": 4,
 "nbformat_minor": 5
}
