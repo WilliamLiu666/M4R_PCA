{
 "cells": [
  {
   "cell_type": "code",
   "execution_count": 1,
   "id": "691806fa",
   "metadata": {},
   "outputs": [],
   "source": [
    "import numpy as np\n",
    "import matplotlib.pyplot as plt\n",
    "from sklearn.cross_decomposition import CCA\n",
    "import scipy"
   ]
  },
  {
   "cell_type": "code",
   "execution_count": 2,
   "id": "b1628deb",
   "metadata": {},
   "outputs": [],
   "source": [
    "l1 = np.random.normal(size=100000)\n",
    "l2 = np.random.normal(size=100000)\n",
    "l3 = np.random.normal(size=100000)\n",
    "\n",
    "latents = np.array([l1, l1*0.5, l1*0.25, l2*0.7, l2*0.3, l3*0.5]).T\n",
    "X = latents + np.random.normal(size=6 * 100000).reshape((100000, 6))*0.5\n",
    "Y = latents + np.random.normal(size=6 * 100000).reshape((100000, 6))*0.5\n",
    "\n",
    "X = X-X.mean(axis=0)\n",
    "Y = Y-Y.mean(axis=0)"
   ]
  },
  {
   "cell_type": "code",
   "execution_count": 3,
   "id": "6cd1f70a",
   "metadata": {},
   "outputs": [],
   "source": [
    "cca = CCA(n_components=3,scale = False, max_iter=1000)\n",
    "cca.fit(X, Y)\n",
    "X_c, Y_c = cca.transform(X, Y)\n",
    "cca_corr_1 = np.corrcoef(X_c.T,Y_c.T)[3,0]\n",
    "cca_corr_2 = np.corrcoef(X_c.T,Y_c.T)[4,1]\n",
    "cca_corr_3 = np.corrcoef(X_c.T,Y_c.T)[5,2]"
   ]
  },
  {
   "cell_type": "code",
   "execution_count": 4,
   "id": "d371e441",
   "metadata": {},
   "outputs": [],
   "source": [
    "c12 = X.T@Y\n",
    "c11 = X.T@X\n",
    "c22 = Y.T@Y\n",
    "\n",
    "\n",
    "eigenvalue,eigenvector = np.linalg.eig(c11)\n",
    "c11_inv_sqrt = scipy.linalg.inv(scipy.linalg.sqrtm(c11))\n",
    "\n",
    "eigenvalue,eigenvector = np.linalg.eig(c22)\n",
    "c22_inv_sqrt = scipy.linalg.inv(scipy.linalg.sqrtm(c22))\n",
    "\n",
    "R = c11_inv_sqrt@c12@c22_inv_sqrt\n",
    "eigenvalue,eigenvector = np.linalg.eig(R.T@R)\n",
    "\n",
    "a_t = c11_inv_sqrt@eigenvector[:,:3]\n",
    "b_t = c22_inv_sqrt@eigenvector[:,:3]\n",
    "\n",
    "X_t = X@a_t\n",
    "Y_t = Y@b_t\n",
    "\n",
    "my_cca_corr_1 = np.corrcoef(X_t.T,Y_t.T)[3,0]\n",
    "my_cca_corr_2 = np.corrcoef(X_t.T,Y_t.T)[4,1]\n",
    "my_cca_corr_3 = np.corrcoef(X_t.T,Y_t.T)[5,2]"
   ]
  },
  {
   "cell_type": "code",
   "execution_count": 5,
   "id": "94a03452",
   "metadata": {},
   "outputs": [],
   "source": [
    "a = np.random.randn(6,3)\n",
    "a,_ = np.linalg.qr(a, mode='reduced')\n",
    "b = np.random.randn(6,3)\n",
    "b,_ = np.linalg.qr(b, mode='reduced')\n",
    "\n",
    "corr_list_1 = []\n",
    "corr_list_2 = []\n",
    "corr_list_3 = []\n",
    "\n",
    "eta = 0.00025\n",
    "for j in range(0,300):\n",
    "    for i in range(100):\n",
    "\n",
    "        ind = j*100+i\n",
    "        x = X[ind,:]\n",
    "        y = Y[ind,:]\n",
    "\n",
    "        c12 = np.outer(x,y)\n",
    "\n",
    "        a += eta*c12@b\n",
    "        a,ar = np.linalg.qr(a, mode='reduced')\n",
    "        a[:,0] = a[:,0]/np.sqrt(a[:,0].T@X[:ind+1,:].T@X[:ind+1,:]@a[:,0])\n",
    "        a[:,1] = a[:,1]/np.sqrt(a[:,1].T@X[:ind+1,:].T@X[:ind+1,:]@a[:,1])\n",
    "        a[:,2] = a[:,2]/np.sqrt(a[:,2].T@X[:ind+1,:].T@X[:ind+1,:]@a[:,2])\n",
    "        a = a*np.sign(np.diagonal(ar))\n",
    "\n",
    "        b += eta*c12.T@a\n",
    "        b,br = np.linalg.qr(b, mode='reduced')\n",
    "        b[:,0] = b[:,0]/np.sqrt(b[:,0].T@Y[:ind+1,:].T@Y[:ind+1,:]@b[:,0])\n",
    "        b[:,1] = b[:,1]/np.sqrt(b[:,1].T@Y[:ind+1,:].T@Y[:ind+1,:]@b[:,1])\n",
    "        b[:,2] = b[:,2]/np.sqrt(b[:,2].T@Y[:ind+1,:].T@Y[:ind+1,:]@b[:,2])\n",
    "        b = b*np.sign(np.diagonal(br))\n",
    "\n",
    "    X_s = X@a\n",
    "    Y_s = Y@b    \n",
    "    corr_list_1.append(np.corrcoef(X_s.T,Y_s.T)[3,0])\n",
    "    corr_list_2.append(np.corrcoef(X_s.T,Y_s.T)[4,1])\n",
    "    corr_list_3.append(np.corrcoef(X_s.T,Y_s.T)[5,2])\n",
    "\n",
    "eta = 0.0004\n",
    "for j in range(300,1000):\n",
    "    for i in range(100):\n",
    "\n",
    "        ind = j*100+i\n",
    "        x = X[ind,:]\n",
    "        y = Y[ind,:]\n",
    "\n",
    "        c12 = np.outer(x,y)\n",
    "\n",
    "        a += eta*c12@b\n",
    "        a,ar = np.linalg.qr(a, mode='reduced')\n",
    "        a[:,0] = a[:,0]/np.sqrt(a[:,0].T@X[:ind+1,:].T@X[:ind+1,:]@a[:,0])\n",
    "        a[:,1] = a[:,1]/np.sqrt(a[:,1].T@X[:ind+1,:].T@X[:ind+1,:]@a[:,1])\n",
    "        a[:,2] = a[:,2]/np.sqrt(a[:,2].T@X[:ind+1,:].T@X[:ind+1,:]@a[:,2])\n",
    "        a = a*np.sign(np.diagonal(ar))\n",
    "\n",
    "        b += eta*c12.T@a\n",
    "        b,br = np.linalg.qr(b, mode='reduced')\n",
    "        b[:,0] = b[:,0]/np.sqrt(b[:,0].T@Y[:ind+1,:].T@Y[:ind+1,:]@b[:,0])\n",
    "        b[:,1] = b[:,1]/np.sqrt(b[:,1].T@Y[:ind+1,:].T@Y[:ind+1,:]@b[:,1])\n",
    "        b[:,2] = b[:,2]/np.sqrt(b[:,2].T@Y[:ind+1,:].T@Y[:ind+1,:]@b[:,2])\n",
    "        b = b*np.sign(np.diagonal(br))\n",
    "\n",
    "    X_s = X@a\n",
    "    Y_s = Y@b    \n",
    "    corr_list_1.append(np.corrcoef(X_s.T,Y_s.T)[3,0])\n",
    "    corr_list_2.append(np.corrcoef(X_s.T,Y_s.T)[4,1])\n",
    "    corr_list_3.append(np.corrcoef(X_s.T,Y_s.T)[5,2])"
   ]
  },
  {
   "cell_type": "code",
   "execution_count": 6,
   "id": "27041b15",
   "metadata": {},
   "outputs": [
    {
     "data": {
      "image/png": "[encoded data removed]",
      "text/plain": [
       "<Figure size 432x288 with 1 Axes>"
      ]
     },
     "metadata": {
      "needs_background": "light"
     },
     "output_type": "display_data"
    }
   ],
   "source": [
    "plt.plot(np.array(list(range(1,1001)))*100,corr_list_1,label='streaming method 1')\n",
    "plt.plot([1000,100000],[my_cca_corr_1,my_cca_corr_1],label='my cca function 1')\n",
    "plt.plot([1000,100000],[cca_corr_1,cca_corr_1],label='cca function 1')\n",
    "plt.xlabel('iterations')\n",
    "plt.ylabel('correlation')\n",
    "plt.legend()\n",
    "plt.show()"
   ]
  },
  {
   "cell_type": "code",
   "execution_count": 7,
   "id": "d8134d85",
   "metadata": {},
   "outputs": [
    {
     "data": {
      "image/png": "[encoded data removed]",
      "text/plain": [
       "<Figure size 432x288 with 1 Axes>"
      ]
     },
     "metadata": {
      "needs_background": "light"
     },
     "output_type": "display_data"
    }
   ],
   "source": [
    "plt.plot(np.array(list(range(1,1001)))*100,corr_list_2,label='streaming method 2')\n",
    "plt.plot([1000,100000],[my_cca_corr_2,my_cca_corr_2],label='my cca function 2')\n",
    "plt.plot([1000,100000],[cca_corr_2,cca_corr_2],label='cca function 2')\n",
    "plt.xlabel('iterations')\n",
    "plt.ylabel('correlation')\n",
    "plt.legend()\n",
    "plt.show()"
   ]
  },
  {
   "cell_type": "code",
   "execution_count": 8,
   "id": "943fc420",
   "metadata": {},
   "outputs": [
    {
     "data": {
      "image/png": "[encoded data removed]",
      "text/plain": [
       "<Figure size 432x288 with 1 Axes>"
      ]
     },
     "metadata": {
      "needs_background": "light"
     },
     "output_type": "display_data"
    }
   ],
   "source": [
    "plt.plot(np.array(list(range(1,1001)))*100,corr_list_3,label='streaming method 3')\n",
    "plt.plot([1000,100000],[my_cca_corr_3,my_cca_corr_3],label='my cca function 3')\n",
    "plt.plot([1000,100000],[cca_corr_3,cca_corr_3],label='cca function 3')\n",
    "plt.xlabel('iterations')\n",
    "plt.ylabel('correlation')\n",
    "plt.legend()\n",
    "plt.show()"
   ]
  },
  {
   "cell_type": "code",
   "execution_count": 9,
   "id": "24f771bf",
   "metadata": {},
   "outputs": [
    {
     "name": "stdout",
     "output_type": "stream",
     "text": [
      "[[-0.87284363 -0.00843754 -0.00212596]\n",
      " [-0.43460603  0.01006348 -0.00638015]\n",
      " [-0.22151678  0.00132179  0.00307648]\n",
      " [ 0.00569921 -0.91767993  0.00655193]\n",
      " [ 0.00293833 -0.39709924 -0.00804099]\n",
      " [-0.01228024  0.00123777  0.99991886]]\n"
     ]
    }
   ],
   "source": [
    "print(a_t/np.linalg.norm(a_t,axis=0))"
   ]
  },
  {
   "cell_type": "code",
   "execution_count": 10,
   "id": "955cac82",
   "metadata": {},
   "outputs": [
    {
     "name": "stdout",
     "output_type": "stream",
     "text": [
      "[[ 8.72802843e-01  2.03234624e-03 -4.12719175e-03]\n",
      " [ 4.37319659e-01  5.92739985e-03 -1.22426986e-02]\n",
      " [ 2.16323716e-01 -3.26319400e-03 -6.30392433e-03]\n",
      " [-5.07054833e-04  9.19021463e-01  4.57359732e-03]\n",
      " [-8.08866556e-03  3.94143748e-01 -9.02407796e-03]\n",
      " [ 1.02507960e-02 -5.86156432e-04  9.99845484e-01]]\n"
     ]
    }
   ],
   "source": [
    "print(cca.x_weights_)"
   ]
  },
  {
   "cell_type": "code",
   "execution_count": 11,
   "id": "dfcc68cc",
   "metadata": {},
   "outputs": [
    {
     "name": "stdout",
     "output_type": "stream",
     "text": [
      "[[-0.86867546  0.01468768  0.00934654]\n",
      " [-0.44352566 -0.00529486  0.00545668]\n",
      " [-0.22000071  0.00551342 -0.00208442]\n",
      " [ 0.00784214  0.91818955 -0.00118133]\n",
      " [ 0.01091505  0.39566718 -0.0229279 ]\n",
      " [ 0.0103436   0.01006287  0.99967567]]\n"
     ]
    }
   ],
   "source": [
    "print(a/np.linalg.norm(a,axis=0))"
   ]
  }
 ],
 "metadata": {
  "kernelspec": {
   "display_name": "Python 3 (ipykernel)",
   "language": "python",
   "name": "python3"
  },
  "language_info": {
   "codemirror_mode": {
    "name": "ipython",
    "version": 3
   },
   "file_extension": ".py",
   "mimetype": "text/x-python",
   "name": "python",
   "nbconvert_exporter": "python",
   "pygments_lexer": "ipython3",
   "version": "3.9.7"
  }
 },
 "nbformat": 4,
 "nbformat_minor": 5
}
