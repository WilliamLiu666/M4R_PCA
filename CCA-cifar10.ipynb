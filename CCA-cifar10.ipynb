{
 "cells": [
  {
   "cell_type": "code",
   "execution_count": 1,
   "id": "393eb9a8",
   "metadata": {},
   "outputs": [],
   "source": [
    "import numpy as np\n",
    "import matplotlib.pyplot as plt\n",
    "from sklearn.cross_decomposition import CCA\n",
    "import scipy"
   ]
  },
  {
   "cell_type": "markdown",
   "id": "5e9f0aa6",
   "metadata": {},
   "source": [
    "$$\n",
    "a^TX^TYb+\\lambda_1(a^TX^TXa-I)+\\lambda_2(b^TY^TYb-I)\\\\\n",
    "\\frac{dC}{da}=X^TYb+\\lambda_1(X^TXa)\\\\\n",
    "\\frac{dC}{db}=Y^TXa+\\lambda_2(Y^TYb)\\\\\n",
    "\\frac{dC}{d\\lambda_1}=a^TX^TXa-I\\\\\n",
    "\\frac{dC}{d\\lambda_2}=b^TY^TYb-I\n",
    "$$"
   ]
  },
  {
   "cell_type": "code",
   "execution_count": 2,
   "id": "167cfef0",
   "metadata": {},
   "outputs": [],
   "source": [
    "def streamingCCA(X,Y,n):\n",
    "    \n",
    "    length,m = X.shape\n",
    "    \n",
    "    a = np.random.randn(m,n)\n",
    "    a,_ = np.linalg.qr(a, mode='reduced')\n",
    "    b = np.random.randn(m,n)\n",
    "    b,_ = np.linalg.qr(b, mode='reduced')\n",
    "    \n",
    "    l1 = 0.4\n",
    "    l2 = 0.4\n",
    "    \n",
    "    list1 = []\n",
    "    list2 = []\n",
    "    \n",
    "    corr_list = np.zeros((n,499))\n",
    "    \n",
    "    covx = np.zeros((m,m))\n",
    "    covy = np.zeros((m,m))\n",
    "    \n",
    "    eta1 = 0.0025\n",
    "    eta2 = 0.0005\n",
    "    \n",
    "    c11 = []\n",
    "    c22 = []\n",
    "    c12 = []\n",
    "    \n",
    "    for i in range(112800):\n",
    "        \n",
    "        x = X[i,:]\n",
    "        y = Y[i,:]\n",
    "        \n",
    "        c12.append(np.outer(x,y))\n",
    "        c11.append(np.outer(x,x))\n",
    "        c22.append(np.outer(y,y))\n",
    "        \n",
    "    for j in range(0,499):\n",
    "        for i in range(500):\n",
    "    \n",
    "            ind = (j*500+i)%112800\n",
    "            \n",
    "            a += eta1*(c12[ind]@b-l1*(c11[ind]@a))\n",
    "            b += eta1*(c12[ind].T@a-l2*(c22[ind]@b))\n",
    "            l1 += eta2*(a.T@c11[ind]@a-1)\n",
    "            l2 += eta2*(b.T@c22[ind]@b-1)\n",
    "    \n",
    "        X_s = X@a\n",
    "        Y_s = Y@b    \n",
    "        list1.append(float(l1.copy()))\n",
    "        list2.append(float(l2.copy()))\n",
    "        \n",
    "        for k in range(n):\n",
    "            corr_list[k,j] = np.corrcoef(X_s.T,Y_s.T)[n+k,k]\n",
    "\n",
    "        \n",
    "    return a,b,list1,list2,corr_list"
   ]
  },
  {
   "cell_type": "code",
   "execution_count": 3,
   "id": "bae77efe",
   "metadata": {},
   "outputs": [
    {
     "data": {
      "text/plain": [
       "'\\nl1 = np.random.normal(size=100000)\\nl2 = np.random.normal(size=100000)\\nl3 = np.random.normal(size=100000)\\n\\nlatents = np.array([l1, l1*0.5, l1*0.25, l2*0.7, l2*0.3, l3*0.5]).T\\nX = latents + np.random.normal(size=6 * 100000).reshape((100000, 6))*0.5\\nY = latents + np.random.normal(size=6 * 100000).reshape((100000, 6))*0.5\\n\\nX = X-X.mean(axis=0)\\nY = Y-Y.mean(axis=0)\\n'"
      ]
     },
     "execution_count": 3,
     "metadata": {},
     "output_type": "execute_result"
    }
   ],
   "source": [
    "'''\n",
    "l1 = np.random.normal(size=100000)\n",
    "l2 = np.random.normal(size=100000)\n",
    "l3 = np.random.normal(size=100000)\n",
    "\n",
    "latents = np.array([l1, l1*0.5, l1*0.25, l2*0.7, l2*0.3, l3*0.5]).T\n",
    "X = latents + np.random.normal(size=6 * 100000).reshape((100000, 6))*0.5\n",
    "Y = latents + np.random.normal(size=6 * 100000).reshape((100000, 6))*0.5\n",
    "\n",
    "X = X-X.mean(axis=0)\n",
    "Y = Y-Y.mean(axis=0)\n",
    "'''"
   ]
  },
  {
   "cell_type": "code",
   "execution_count": 4,
   "id": "68a23fac",
   "metadata": {},
   "outputs": [
    {
     "data": {
      "text/plain": [
       "'\\nx = tf.keras.datasets.cifar10.load_data()[0][0]\\nx = x.reshape(-1,32*32*3)\\nx = x/255\\nx = (x - x.mean(axis=0))\\nX = x[:,:10]\\nY = x[:,-10:]\\n'"
      ]
     },
     "execution_count": 4,
     "metadata": {},
     "output_type": "execute_result"
    }
   ],
   "source": [
    "'''\n",
    "x = tf.keras.datasets.cifar10.load_data()[0][0]\n",
    "x = x.reshape(-1,32*32*3)\n",
    "x = x/255\n",
    "x = (x - x.mean(axis=0))\n",
    "X = x[:,:10]\n",
    "Y = x[:,-10:]\n",
    "'''"
   ]
  },
  {
   "cell_type": "code",
   "execution_count": 5,
   "id": "279d1f7d",
   "metadata": {},
   "outputs": [],
   "source": [
    "x = np.load('balanced-MNIST.npy')\n",
    "x = x/255\n",
    "x = (x - x.mean(axis=0))\n",
    "X = x[:,300:335]\n",
    "Y = x[:,400:435]"
   ]
  },
  {
   "cell_type": "code",
   "execution_count": 6,
   "id": "4eefaccc",
   "metadata": {},
   "outputs": [],
   "source": [
    "n=1\n",
    "a,b,list1,list2,corr_list = streamingCCA(X, Y, n)\n",
    "cca = CCA(n_components=n,max_iter=60000)\n",
    "cca.fit(X, Y)\n",
    "X_c, Y_c = cca.transform(X, Y)"
   ]
  },
  {
   "cell_type": "code",
   "execution_count": 7,
   "id": "dace915d",
   "metadata": {},
   "outputs": [
    {
     "data": {
      "image/png": "[encoded data removed]",
      "text/plain": [
       "<Figure size 432x288 with 1 Axes>"
      ]
     },
     "metadata": {
      "needs_background": "light"
     },
     "output_type": "display_data"
    }
   ],
   "source": [
    "for i in range(n):\n",
    "    plt.plot(np.array(list(range(1,500)))*500,corr_list[i,:],label='streaming method {}'.format(i))\n",
    "    plt.plot([100,250000],[np.corrcoef(X_c.T,Y_c.T)[n+i,i],np.corrcoef(X_c.T,Y_c.T)[n+i,i]],label='built-in cca function {}'.format(i))\n",
    "    plt.xlabel('iterations')\n",
    "    plt.ylabel('correlation')\n",
    "    plt.legend()\n",
    "    plt.show()"
   ]
  },
  {
   "cell_type": "code",
   "execution_count": 8,
   "id": "e7844140",
   "metadata": {},
   "outputs": [
    {
     "data": {
      "text/plain": [
       "[<matplotlib.lines.Line2D at 0x1c2911b4a30>]"
      ]
     },
     "execution_count": 8,
     "metadata": {},
     "output_type": "execute_result"
    },
    {
     "data": {
      "image/png": "[encoded data removed]",
      "text/plain": [
       "<Figure size 432x288 with 1 Axes>"
      ]
     },
     "metadata": {
      "needs_background": "light"
     },
     "output_type": "display_data"
    }
   ],
   "source": [
    "plt.plot(list1)"
   ]
  },
  {
   "cell_type": "code",
   "execution_count": 9,
   "id": "408a5749",
   "metadata": {},
   "outputs": [
    {
     "data": {
      "text/plain": [
       "[<matplotlib.lines.Line2D at 0x1c2931cc1f0>]"
      ]
     },
     "execution_count": 9,
     "metadata": {},
     "output_type": "execute_result"
    },
    {
     "data": {
      "image/png": "[encoded data removed]",
      "text/plain": [
       "<Figure size 432x288 with 1 Axes>"
      ]
     },
     "metadata": {
      "needs_background": "light"
     },
     "output_type": "display_data"
    }
   ],
   "source": [
    "plt.plot(list2)"
   ]
  },
  {
   "cell_type": "code",
   "execution_count": 10,
   "id": "2b5a266f",
   "metadata": {},
   "outputs": [
    {
     "data": {
      "text/plain": [
       "array([[0.22942113, 0.42565901, 0.51907771, 0.52047618, 0.56105481,\n",
       "        0.60364364, 0.61551086, 0.61113809, 0.60944592, 0.61154869,\n",
       "        0.6212145 , 0.63036629, 0.6335719 , 0.62343462, 0.6181231 ,\n",
       "        0.6340868 , 0.64239168, 0.64819665, 0.64899614, 0.64773588,\n",
       "        0.64923124, 0.65258504, 0.65289865, 0.65090037, 0.64139199,\n",
       "        0.64153019, 0.64928819, 0.65631318, 0.65658448, 0.65799807,\n",
       "        0.65906158, 0.66073884, 0.66308952, 0.65885862, 0.6504771 ,\n",
       "        0.65036139, 0.65464222, 0.66279735, 0.6615034 , 0.65929926,\n",
       "        0.6639373 , 0.66642127, 0.66602764, 0.66350124, 0.65957422,\n",
       "        0.65727188, 0.6610055 , 0.66563809, 0.66791119, 0.66721701,\n",
       "        0.66711229, 0.66790503, 0.66924466, 0.66634013, 0.6649733 ,\n",
       "        0.6612124 , 0.66306498, 0.66418905, 0.6658642 , 0.66966471,\n",
       "        0.6699889 , 0.66924765, 0.66957367, 0.67140787, 0.66916161,\n",
       "        0.66664716, 0.66471617, 0.66501205, 0.66724023, 0.66676823,\n",
       "        0.66889065, 0.66667579, 0.6676162 , 0.67161812, 0.67097719,\n",
       "        0.66757493, 0.66713361, 0.66214238, 0.66583621, 0.66886335,\n",
       "        0.66867912, 0.66998717, 0.67119362, 0.67104138, 0.67199394,\n",
       "        0.6705435 , 0.66596358, 0.66609167, 0.66991593, 0.67157025,\n",
       "        0.6716422 , 0.67057121, 0.6689801 , 0.66937335, 0.67081426,\n",
       "        0.67164727, 0.66545637, 0.66675249, 0.67103067, 0.67129719,\n",
       "        0.67001744, 0.67151108, 0.6715983 , 0.67156195, 0.67154869,\n",
       "        0.67135998, 0.66805456, 0.66722402, 0.66654414, 0.67104777,\n",
       "        0.67105365, 0.67194762, 0.67153613, 0.66934318, 0.67205068,\n",
       "        0.67264131, 0.67149041, 0.67064088, 0.67174124, 0.67260577,\n",
       "        0.67336777, 0.6728742 , 0.67331774, 0.67160275, 0.67186059,\n",
       "        0.6727482 , 0.67257923, 0.67360547, 0.67229776, 0.67362316,\n",
       "        0.67008118, 0.67343303, 0.67387918, 0.67441746, 0.67325515,\n",
       "        0.67298678, 0.67326682, 0.67021824, 0.67234174, 0.67333479,\n",
       "        0.67345369, 0.6731446 , 0.67224183, 0.67130224, 0.6747084 ,\n",
       "        0.67459886, 0.67227845, 0.67421601, 0.67214062, 0.67165376,\n",
       "        0.67353528, 0.6737607 , 0.67309417, 0.67105172, 0.67306076,\n",
       "        0.67183491, 0.67161986, 0.67422493, 0.67296582, 0.67245518,\n",
       "        0.6738859 , 0.67387189, 0.67380083, 0.67462757, 0.6743087 ,\n",
       "        0.67486351, 0.67431843, 0.67408173, 0.67504562, 0.67461874,\n",
       "        0.6736764 , 0.67464769, 0.67287958, 0.6723192 , 0.67277883,\n",
       "        0.67430163, 0.67246956, 0.67106334, 0.67486846, 0.67560248,\n",
       "        0.67358498, 0.67436218, 0.67445593, 0.67285453, 0.6732166 ,\n",
       "        0.67344887, 0.67460863, 0.6731618 , 0.67441954, 0.67419525,\n",
       "        0.67150615, 0.67422071, 0.67257564, 0.67157023, 0.67265294,\n",
       "        0.67416423, 0.67450526, 0.67407331, 0.67212186, 0.67298711,\n",
       "        0.67182313, 0.67366823, 0.67381298, 0.67255695, 0.67388366,\n",
       "        0.67332426, 0.67541995, 0.67547926, 0.67601298, 0.67546338,\n",
       "        0.67462966, 0.67427569, 0.67576259, 0.67419982, 0.67478886,\n",
       "        0.67536562, 0.67412958, 0.67580662, 0.67273655, 0.67513869,\n",
       "        0.67503962, 0.67422271, 0.67308608, 0.67505295, 0.67446765,\n",
       "        0.67532301, 0.67572262, 0.67579052, 0.67365173, 0.67244367,\n",
       "        0.67425624, 0.67437821, 0.67386644, 0.67395989, 0.67419702,\n",
       "        0.67457192, 0.67623959, 0.67538113, 0.67263885, 0.67507159,\n",
       "        0.67443147, 0.67579283, 0.67502447, 0.67573758, 0.67460487,\n",
       "        0.67550377, 0.67364485, 0.67482062, 0.67433354, 0.67542735,\n",
       "        0.67543304, 0.67439049, 0.67364229, 0.6741601 , 0.67436192,\n",
       "        0.67475031, 0.67453101, 0.67484894, 0.67569438, 0.67422659,\n",
       "        0.67536643, 0.67561234, 0.67613481, 0.67590022, 0.67524267,\n",
       "        0.6742599 , 0.67583415, 0.67611547, 0.67433961, 0.67385691,\n",
       "        0.67330178, 0.67394399, 0.67578012, 0.67465621, 0.6754249 ,\n",
       "        0.67579244, 0.67482761, 0.6762127 , 0.67447711, 0.67366492,\n",
       "        0.67585534, 0.67366189, 0.67537571, 0.67274956, 0.67491453,\n",
       "        0.67523748, 0.67639988, 0.67455405, 0.67477841, 0.67656315,\n",
       "        0.6757158 , 0.67361495, 0.67165048, 0.67331462, 0.67351603,\n",
       "        0.6729451 , 0.67345872, 0.67446071, 0.67432574, 0.6760297 ,\n",
       "        0.67574345, 0.67451797, 0.6688658 , 0.6699036 , 0.67180178,\n",
       "        0.67028026, 0.67486438, 0.67361503, 0.67494968, 0.67493697,\n",
       "        0.67639633, 0.6736929 , 0.67462607, 0.67359759, 0.67427573,\n",
       "        0.67474712, 0.67353255, 0.67169707, 0.67174695, 0.67399066,\n",
       "        0.67500689, 0.6730931 , 0.66930959, 0.6747563 , 0.67485858,\n",
       "        0.67439584, 0.67397968, 0.6732414 , 0.67447817, 0.67451555,\n",
       "        0.67444204, 0.67255844, 0.67308107, 0.66925957, 0.67299982,\n",
       "        0.67379385, 0.67451054, 0.67492627, 0.67467287, 0.67430716,\n",
       "        0.67471432, 0.67453923, 0.67146746, 0.67212787, 0.67566647,\n",
       "        0.67523159, 0.67586404, 0.67572344, 0.67621679, 0.6734058 ,\n",
       "        0.67363519, 0.67557598, 0.67581623, 0.67490273, 0.67399493,\n",
       "        0.67510881, 0.67425307, 0.67487261, 0.67577284, 0.67368187,\n",
       "        0.67409389, 0.67479106, 0.67279156, 0.67206329, 0.67506425,\n",
       "        0.67565041, 0.67439405, 0.67490858, 0.67323673, 0.67294477,\n",
       "        0.67558812, 0.6757571 , 0.671817  , 0.67598995, 0.6749511 ,\n",
       "        0.67356348, 0.67490996, 0.67518486, 0.67458691, 0.6721984 ,\n",
       "        0.67317008, 0.67303552, 0.67482637, 0.6750267 , 0.67289539,\n",
       "        0.67423111, 0.67482153, 0.67475665, 0.67399791, 0.67561247,\n",
       "        0.67320987, 0.67544596, 0.67407339, 0.6762032 , 0.6767176 ,\n",
       "        0.67538506, 0.67468059, 0.67592159, 0.67231442, 0.67470358,\n",
       "        0.67566266, 0.67328495, 0.67413437, 0.67343792, 0.67585928,\n",
       "        0.67549266, 0.67563449, 0.67557851, 0.67487988, 0.67392675,\n",
       "        0.6736792 , 0.67563649, 0.67500403, 0.67402836, 0.67569682,\n",
       "        0.67451102, 0.67424802, 0.67528118, 0.67346483, 0.67072918,\n",
       "        0.67546098, 0.67588052, 0.67444553, 0.67398303, 0.67300459,\n",
       "        0.67423598, 0.67219178, 0.674019  , 0.67130912, 0.67187191,\n",
       "        0.67591929, 0.67435803, 0.67543311, 0.67692055, 0.67619855,\n",
       "        0.67652448, 0.67638217, 0.67526157, 0.67593576, 0.67516815,\n",
       "        0.67434473, 0.6760606 , 0.67665939, 0.67481839, 0.67568581,\n",
       "        0.67520966, 0.67534962, 0.67294056, 0.67554641, 0.67523365,\n",
       "        0.67604061, 0.67588345, 0.67596959, 0.67648895, 0.67204647,\n",
       "        0.67339446, 0.6743748 , 0.67558075, 0.67455194, 0.67466272,\n",
       "        0.67598482, 0.67557522, 0.67677546, 0.67090712, 0.67531017,\n",
       "        0.67635065, 0.67566237, 0.6759935 , 0.67512645, 0.6758142 ,\n",
       "        0.67595872, 0.6753174 , 0.67437806, 0.67618438, 0.67596764,\n",
       "        0.67623327, 0.67467955, 0.67118453, 0.67481281, 0.67563587,\n",
       "        0.6755118 , 0.67633931, 0.67512841, 0.67672713, 0.67518233,\n",
       "        0.67534325, 0.67616115, 0.67639424, 0.67686039, 0.6756831 ,\n",
       "        0.67583232, 0.67567574, 0.67590239, 0.67552145, 0.67437667,\n",
       "        0.67345642, 0.67424499, 0.67529535, 0.67535721]])"
      ]
     },
     "execution_count": 10,
     "metadata": {},
     "output_type": "execute_result"
    }
   ],
   "source": [
    "corr_list"
   ]
  },
  {
   "cell_type": "code",
   "execution_count": 11,
   "id": "1c36a7b8",
   "metadata": {},
   "outputs": [
    {
     "data": {
      "text/plain": [
       "array([[-0.06752733],\n",
       "       [-0.17921351],\n",
       "       [-0.09487112],\n",
       "       [ 0.18869752],\n",
       "       [ 0.23150286],\n",
       "       [ 0.00471095],\n",
       "       [ 0.02291861],\n",
       "       [-0.02709967],\n",
       "       [ 0.14502042],\n",
       "       [ 0.09532783],\n",
       "       [ 0.01364344],\n",
       "       [-0.14104902],\n",
       "       [-0.20823497],\n",
       "       [-0.16170209],\n",
       "       [-0.10925236],\n",
       "       [-0.01728076],\n",
       "       [ 0.06476883],\n",
       "       [ 0.03198256],\n",
       "       [ 0.05259896],\n",
       "       [ 0.01850146],\n",
       "       [-0.05787579],\n",
       "       [-0.0020249 ],\n",
       "       [ 0.00562161],\n",
       "       [ 0.07433827],\n",
       "       [ 0.0051204 ],\n",
       "       [ 0.03992797],\n",
       "       [-0.01718729],\n",
       "       [ 0.06946517],\n",
       "       [ 0.21669193],\n",
       "       [ 0.22074456],\n",
       "       [ 0.00884099],\n",
       "       [-0.56983576],\n",
       "       [-0.53549892],\n",
       "       [-0.02598143],\n",
       "       [-0.00287606]])"
      ]
     },
     "execution_count": 11,
     "metadata": {},
     "output_type": "execute_result"
    }
   ],
   "source": [
    "a/np.linalg.norm(a)"
   ]
  },
  {
   "cell_type": "code",
   "execution_count": 12,
   "id": "598c8b90",
   "metadata": {},
   "outputs": [],
   "source": [
    "cca = CCA(n_components=4,max_iter=60000)\n",
    "cca.fit(X, Y)\n",
    "X_c, Y_c = cca.transform(X, Y)"
   ]
  },
  {
   "cell_type": "code",
   "execution_count": 13,
   "id": "70f1f971",
   "metadata": {},
   "outputs": [
    {
     "data": {
      "text/plain": [
       "array([[ 6.27041385e-02,  2.07887706e-01,  4.41488273e-01,\n",
       "         2.65301135e-01],\n",
       "       [ 1.80173189e-01, -1.03716291e-01, -1.27422585e-01,\n",
       "        -1.98078110e-01],\n",
       "       [ 1.21596283e-01, -1.90761168e-01,  1.47166403e-01,\n",
       "        -5.31539722e-02],\n",
       "       [-1.77411915e-01, -2.48091715e-01,  4.69034746e-03,\n",
       "         1.73890235e-01],\n",
       "       [-1.95834862e-01,  1.80638057e-01, -1.86595506e-01,\n",
       "        -6.04329206e-02],\n",
       "       [ 1.43190348e-02,  5.45486602e-02, -5.49307337e-02,\n",
       "        -1.30584767e-01],\n",
       "       [ 1.44348168e-02, -2.34758352e-02,  1.58661384e-02,\n",
       "         2.89268783e-02],\n",
       "       [ 7.12061827e-16, -3.30828449e-16,  7.06403448e-16,\n",
       "         1.25190211e-16],\n",
       "       [-1.32139557e-16,  2.67247521e-16, -3.91301599e-16,\n",
       "         4.97611382e-16],\n",
       "       [ 7.76877878e-04, -1.69607512e-02,  7.81815631e-03,\n",
       "         4.99476161e-02],\n",
       "       [-6.03091144e-03, -7.16776691e-02,  2.33866605e-02,\n",
       "         3.04618693e-02],\n",
       "       [ 1.04126868e-01, -3.05897986e-02, -1.40642333e-01,\n",
       "         1.55874440e-01],\n",
       "       [ 2.19022768e-01, -1.03289365e-01, -2.87759247e-01,\n",
       "         2.17413912e-01],\n",
       "       [ 1.47440341e-01,  1.05724290e-01, -2.96164487e-01,\n",
       "         1.04507890e-01],\n",
       "       [ 1.39850851e-01,  8.02727527e-02, -2.91082484e-01,\n",
       "         2.09757846e-01],\n",
       "       [ 1.72323385e-02,  8.61751918e-02, -7.55069077e-02,\n",
       "         9.07565524e-02],\n",
       "       [-6.93080724e-02,  4.33630523e-02,  2.23082393e-01,\n",
       "        -1.30533142e-02],\n",
       "       [-4.42672181e-02,  3.31988916e-02,  1.71053792e-01,\n",
       "        -5.85293608e-02],\n",
       "       [-5.16093308e-02, -2.03996600e-02,  2.25404964e-01,\n",
       "        -1.34640652e-01],\n",
       "       [-2.88238857e-02, -9.46714487e-03,  4.41762933e-02,\n",
       "        -5.96862596e-02],\n",
       "       [ 5.36467654e-02,  2.72426318e-02,  9.73014766e-02,\n",
       "         9.91165407e-02],\n",
       "       [-6.72112606e-03,  8.23245692e-03,  1.71812446e-01,\n",
       "         2.58445461e-01],\n",
       "       [ 3.73064606e-03,  4.63093648e-02, -2.20227901e-02,\n",
       "        -8.60788179e-02],\n",
       "       [-7.91678511e-02, -7.02411242e-02, -8.37416280e-02,\n",
       "        -2.34600958e-01],\n",
       "       [-2.37256189e-02,  6.61774644e-03, -1.45668031e-01,\n",
       "        -1.22960552e-01],\n",
       "       [-3.22373592e-02, -4.94690793e-02, -1.11741506e-01,\n",
       "        -7.43918096e-02],\n",
       "       [-3.51825897e-02, -4.28723104e-02, -7.90257830e-02,\n",
       "        -5.64224285e-02],\n",
       "       [-6.47826826e-02, -1.49448542e-01,  2.30487707e-02,\n",
       "        -2.91065396e-01],\n",
       "       [-2.28678951e-01, -1.33845056e-01, -2.76711533e-01,\n",
       "        -1.24759461e-01],\n",
       "       [-2.23693217e-01,  2.34618734e-01,  6.17529107e-02,\n",
       "         4.05855742e-01],\n",
       "       [-7.95326392e-02,  5.52673182e-01, -3.35888020e-01,\n",
       "         8.70760739e-02],\n",
       "       [ 6.20345758e-01,  3.92314947e-01,  1.58580134e-01,\n",
       "        -2.24814641e-01],\n",
       "       [ 5.07789232e-01, -3.42072630e-01, -1.01501428e-01,\n",
       "         1.57876466e-01],\n",
       "       [ 1.31218894e-02, -2.86836424e-01, -1.35028575e-02,\n",
       "         3.94206896e-01],\n",
       "       [-1.13241568e-02, -1.42767259e-02,  1.26776430e-02,\n",
       "         7.74010053e-02]])"
      ]
     },
     "execution_count": 13,
     "metadata": {},
     "output_type": "execute_result"
    }
   ],
   "source": [
    "cca.x_weights_"
   ]
  },
  {
   "cell_type": "code",
   "execution_count": 14,
   "id": "e51e64ec",
   "metadata": {},
   "outputs": [
    {
     "data": {
      "text/plain": [
       "0.412285316090306"
      ]
     },
     "execution_count": 14,
     "metadata": {},
     "output_type": "execute_result"
    }
   ],
   "source": [
    "np.corrcoef(X_c.T,Y_c.T)[2,6]"
   ]
  }
 ],
 "metadata": {
  "kernelspec": {
   "display_name": "Python 3 (ipykernel)",
   "language": "python",
   "name": "python3"
  },
  "language_info": {
   "codemirror_mode": {
    "name": "ipython",
    "version": 3
   },
   "file_extension": ".py",
   "mimetype": "text/x-python",
   "name": "python",
   "nbconvert_exporter": "python",
   "pygments_lexer": "ipython3",
   "version": "3.9.7"
  }
 },
 "nbformat": 4,
 "nbformat_minor": 5
}
