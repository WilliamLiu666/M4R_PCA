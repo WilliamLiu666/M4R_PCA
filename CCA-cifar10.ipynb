{
 "cells": [
  {
   "cell_type": "code",
   "execution_count": 1,
   "id": "393eb9a8",
   "metadata": {},
   "outputs": [],
   "source": [
    "import numpy as np\n",
    "import matplotlib.pyplot as plt\n",
    "from sklearn.cross_decomposition import CCA\n",
    "import scipy"
   ]
  },
  {
   "cell_type": "markdown",
   "id": "5e9f0aa6",
   "metadata": {},
   "source": [
    "$$\n",
    "a^TX^TYb+\\lambda_1(a^TX^TXa-I)+\\lambda_2(b^TY^TYb-I)\\\\\n",
    "\\frac{dC}{da}=X^TYb+\\lambda_1(X^TXa)\\\\\n",
    "\\frac{dC}{db}=Y^TXa+\\lambda_2(Y^TYb)\\\\\n",
    "\\frac{dC}{d\\lambda_1}=a^TX^TXa-I\\\\\n",
    "\\frac{dC}{d\\lambda_2}=b^TY^TYb-I\n",
    "$$"
   ]
  },
  {
   "cell_type": "code",
   "execution_count": 36,
   "id": "167cfef0",
   "metadata": {},
   "outputs": [],
   "source": [
    "def streamingCCA(X,Y,n):\n",
    "    \n",
    "    length,m = X.shape\n",
    "    \n",
    "    a = np.random.randn(m,n)\n",
    "    a,_ = np.linalg.qr(a, mode='reduced')\n",
    "    b = np.random.randn(m,n)\n",
    "    b,_ = np.linalg.qr(b, mode='reduced')\n",
    "    \n",
    "    l1 = 0.4\n",
    "    l2 = 0.4\n",
    "    \n",
    "    list1 = []\n",
    "    list2 = []\n",
    "    \n",
    "    corr_list = np.zeros((n,499))\n",
    "    \n",
    "    covx = np.zeros((m,m))\n",
    "    covy = np.zeros((m,m))\n",
    "    \n",
    "    eta1 = 0.0025\n",
    "    eta2 = 0.0005\n",
    "    \n",
    "    c11 = []\n",
    "    c22 = []\n",
    "    c12 = []\n",
    "    \n",
    "    for i in range(112800):\n",
    "        \n",
    "        x = X[i,:]\n",
    "        y = Y[i,:]\n",
    "        \n",
    "        c12.append(np.outer(x,y))\n",
    "        c11.append(np.outer(x,x))\n",
    "        c22.append(np.outer(y,y))\n",
    "        \n",
    "    for j in range(0,499):\n",
    "        for i in range(500):\n",
    "    \n",
    "            ind = (j*500+i)%112800\n",
    "            \n",
    "            a += eta1*(c12[ind]@b-l1*(c11[ind]@a))\n",
    "            b += eta1*(c12[ind].T@a-l2*(c22[ind]@b))\n",
    "            l1 += eta2*(a.T@c11[ind]@a-1)\n",
    "            l2 += eta2*(b.T@c22[ind]@b-1)\n",
    "    \n",
    "        X_s = X@a\n",
    "        Y_s = Y@b    \n",
    "        list1.append(float(l1.copy()))\n",
    "        list2.append(float(l2.copy()))\n",
    "        \n",
    "        for k in range(n):\n",
    "            corr_list[k,j] = np.corrcoef(X_s.T,Y_s.T)[n+k,k]\n",
    "\n",
    "        \n",
    "    return a,b,list1,list2,corr_list"
   ]
  },
  {
   "cell_type": "code",
   "execution_count": 37,
   "id": "bae77efe",
   "metadata": {},
   "outputs": [
    {
     "data": {
      "text/plain": [
       "'\\nl1 = np.random.normal(size=100000)\\nl2 = np.random.normal(size=100000)\\nl3 = np.random.normal(size=100000)\\n\\nlatents = np.array([l1, l1*0.5, l1*0.25, l2*0.7, l2*0.3, l3*0.5]).T\\nX = latents + np.random.normal(size=6 * 100000).reshape((100000, 6))*0.5\\nY = latents + np.random.normal(size=6 * 100000).reshape((100000, 6))*0.5\\n\\nX = X-X.mean(axis=0)\\nY = Y-Y.mean(axis=0)\\n'"
      ]
     },
     "execution_count": 37,
     "metadata": {},
     "output_type": "execute_result"
    }
   ],
   "source": [
    "'''\n",
    "l1 = np.random.normal(size=100000)\n",
    "l2 = np.random.normal(size=100000)\n",
    "l3 = np.random.normal(size=100000)\n",
    "\n",
    "latents = np.array([l1, l1*0.5, l1*0.25, l2*0.7, l2*0.3, l3*0.5]).T\n",
    "X = latents + np.random.normal(size=6 * 100000).reshape((100000, 6))*0.5\n",
    "Y = latents + np.random.normal(size=6 * 100000).reshape((100000, 6))*0.5\n",
    "\n",
    "X = X-X.mean(axis=0)\n",
    "Y = Y-Y.mean(axis=0)\n",
    "'''"
   ]
  },
  {
   "cell_type": "code",
   "execution_count": 38,
   "id": "68a23fac",
   "metadata": {},
   "outputs": [
    {
     "data": {
      "text/plain": [
       "'\\nx = tf.keras.datasets.cifar10.load_data()[0][0]\\nx = x.reshape(-1,32*32*3)\\nx = x/255\\nx = (x - x.mean(axis=0))\\nX = x[:,:10]\\nY = x[:,-10:]\\n'"
      ]
     },
     "execution_count": 38,
     "metadata": {},
     "output_type": "execute_result"
    }
   ],
   "source": [
    "'''\n",
    "x = tf.keras.datasets.cifar10.load_data()[0][0]\n",
    "x = x.reshape(-1,32*32*3)\n",
    "x = x/255\n",
    "x = (x - x.mean(axis=0))\n",
    "X = x[:,:10]\n",
    "Y = x[:,-10:]\n",
    "'''"
   ]
  },
  {
   "cell_type": "code",
   "execution_count": 39,
   "id": "279d1f7d",
   "metadata": {},
   "outputs": [],
   "source": [
    "x = np.load('balanced-MNIST.npy')\n",
    "x = x/255\n",
    "x = (x - x.mean(axis=0))\n",
    "X = x[:,300:335]\n",
    "Y = x[:,400:435]"
   ]
  },
  {
   "cell_type": "code",
   "execution_count": 40,
   "id": "4eefaccc",
   "metadata": {},
   "outputs": [],
   "source": [
    "n=1\n",
    "a,b,list1,list2,corr_list = streamingCCA(X, Y, n)\n",
    "cca = CCA(n_components=n,max_iter=60000)\n",
    "cca.fit(X, Y)\n",
    "X_c, Y_c = cca.transform(X, Y)"
   ]
  },
  {
   "cell_type": "code",
   "execution_count": 41,
   "id": "dace915d",
   "metadata": {},
   "outputs": [
    {
     "data": {
      "image/png": "[encoded data removed]",
      "text/plain": [
       "<Figure size 432x288 with 1 Axes>"
      ]
     },
     "metadata": {
      "needs_background": "light"
     },
     "output_type": "display_data"
    }
   ],
   "source": [
    "for i in range(n):\n",
    "    plt.plot(np.array(list(range(1,500)))*500,corr_list[i,:],label='streaming method {}'.format(i))\n",
    "    plt.plot([100,250000],[np.corrcoef(X_c.T,Y_c.T)[n+i,i],np.corrcoef(X_c.T,Y_c.T)[n+i,i]],label='built-in cca function {}'.format(i))\n",
    "    plt.xlabel('iterations')\n",
    "    plt.ylabel('correlation')\n",
    "    plt.legend()\n",
    "    plt.show()"
   ]
  },
  {
   "cell_type": "code",
   "execution_count": 42,
   "id": "e7844140",
   "metadata": {},
   "outputs": [
    {
     "data": {
      "text/plain": [
       "[<matplotlib.lines.Line2D at 0x1fcd6f77850>]"
      ]
     },
     "execution_count": 42,
     "metadata": {},
     "output_type": "execute_result"
    },
    {
     "data": {
      "image/png": "[encoded data removed]",
      "text/plain": [
       "<Figure size 432x288 with 1 Axes>"
      ]
     },
     "metadata": {
      "needs_background": "light"
     },
     "output_type": "display_data"
    }
   ],
   "source": [
    "plt.plot(list1)"
   ]
  },
  {
   "cell_type": "code",
   "execution_count": 43,
   "id": "408a5749",
   "metadata": {},
   "outputs": [
    {
     "data": {
      "text/plain": [
       "[<matplotlib.lines.Line2D at 0x1fcd4fbbcd0>]"
      ]
     },
     "execution_count": 43,
     "metadata": {},
     "output_type": "execute_result"
    },
    {
     "data": {
      "image/png": "[encoded data removed]",
      "text/plain": [
       "<Figure size 432x288 with 1 Axes>"
      ]
     },
     "metadata": {
      "needs_background": "light"
     },
     "output_type": "display_data"
    }
   ],
   "source": [
    "plt.plot(list2)"
   ]
  },
  {
   "cell_type": "code",
   "execution_count": 31,
   "id": "2b5a266f",
   "metadata": {},
   "outputs": [
    {
     "data": {
      "text/plain": [
       "array([[0.60618464, 0.61881671, 0.63654091, 0.63347326, 0.65296596,\n",
       "        0.62721271, 0.64285556, 0.62061338, 0.61032329, 0.65156443,\n",
       "        0.64107514, 0.65232433, 0.6268931 , 0.64796068, 0.65190882,\n",
       "        0.64321217, 0.65562821, 0.63520118, 0.63365437, 0.6330156 ,\n",
       "        0.65846433, 0.65625214, 0.63494731, 0.6386554 , 0.648677  ,\n",
       "        0.63452067, 0.67000934, 0.64194723, 0.63649371, 0.58278076,\n",
       "        0.64118398, 0.62955235, 0.65416638, 0.62490714, 0.64657046,\n",
       "        0.65376683, 0.63914307, 0.64786101, 0.63656608, 0.62914853,\n",
       "        0.63607461, 0.64940067, 0.6503911 , 0.65351101, 0.65892224,\n",
       "        0.65693424, 0.65301351, 0.66463541, 0.65795772, 0.6441514 ,\n",
       "        0.64989327, 0.64466912, 0.65927009, 0.63294575, 0.66251758,\n",
       "        0.64770838, 0.65286901, 0.65305921, 0.64912065, 0.65864927,\n",
       "        0.65614966, 0.64618467, 0.65233528, 0.63141987, 0.65326909,\n",
       "        0.65942317, 0.65846691, 0.64951119, 0.66288154, 0.64876685,\n",
       "        0.65411941, 0.65321875, 0.63189532, 0.65200392, 0.65557144,\n",
       "        0.63158841, 0.63253574, 0.62011189, 0.6481786 , 0.6535113 ,\n",
       "        0.63495201, 0.62803269, 0.64626661, 0.64948239, 0.64437691,\n",
       "        0.64107294, 0.64791129, 0.64183316, 0.6374878 , 0.64312866,\n",
       "        0.64259973, 0.63234854, 0.6365528 , 0.64691321, 0.65500815,\n",
       "        0.65951326, 0.61036051, 0.65801858, 0.63470189, 0.62080409,\n",
       "        0.65099257, 0.64555566, 0.66266827, 0.63709282, 0.6517012 ,\n",
       "        0.64217986, 0.65576245, 0.64063323, 0.63564604, 0.64505508,\n",
       "        0.66023773, 0.64971551, 0.64097294, 0.64588849, 0.655972  ,\n",
       "        0.61708473, 0.63163873, 0.65640944, 0.63274185, 0.6523948 ,\n",
       "        0.63575167, 0.65075287, 0.66137661, 0.61029202, 0.64576575,\n",
       "        0.64697608, 0.6168228 , 0.64068846, 0.63918039, 0.65325768,\n",
       "        0.65408619, 0.66093394, 0.65201551, 0.64752637, 0.63535891,\n",
       "        0.64975823, 0.63888205, 0.65366469, 0.6473225 , 0.6573125 ,\n",
       "        0.65381785, 0.64710139, 0.63957698, 0.63340424, 0.64652371,\n",
       "        0.65049189, 0.63534026, 0.64182065, 0.62283188, 0.64620053,\n",
       "        0.64661153, 0.64085746, 0.6427059 , 0.62787793, 0.66325067,\n",
       "        0.62910103, 0.63987099, 0.61328929, 0.66579172, 0.651693  ,\n",
       "        0.57936418, 0.65198478, 0.66093522, 0.65721951, 0.6426144 ,\n",
       "        0.66259673, 0.64571108, 0.64062733, 0.66364368, 0.64542263,\n",
       "        0.65572783, 0.65650249, 0.63797057, 0.63752656, 0.62029386,\n",
       "        0.63080799, 0.65428258, 0.64386535, 0.65484148, 0.65978609,\n",
       "        0.65862491, 0.66424175, 0.65478926, 0.65061422, 0.63791784,\n",
       "        0.66335081, 0.63426567, 0.62128251, 0.647311  , 0.63832767,\n",
       "        0.65320811, 0.66343155, 0.64894782, 0.64909591, 0.62804493,\n",
       "        0.65614465, 0.65550086, 0.6485734 , 0.63695641, 0.65004052,\n",
       "        0.62735429, 0.64131934, 0.64743473, 0.64819003, 0.63826798,\n",
       "        0.6354731 , 0.63977562, 0.65889031, 0.64663179, 0.64790713,\n",
       "        0.63569562, 0.64097444, 0.65118489, 0.63480444, 0.65480618,\n",
       "        0.65085799, 0.65942578, 0.64684497, 0.61046752, 0.66148824,\n",
       "        0.64316575, 0.64785782, 0.63444378, 0.65256087, 0.66740549,\n",
       "        0.6471448 , 0.66232055, 0.65751856, 0.64099882, 0.6556653 ,\n",
       "        0.65657693, 0.65016904, 0.65017533, 0.6405882 , 0.64718853,\n",
       "        0.65465587, 0.64926117, 0.65699998, 0.6480749 , 0.64783843,\n",
       "        0.65415023, 0.6504791 , 0.64272377, 0.64635097, 0.65754695,\n",
       "        0.64620703, 0.62982981, 0.64801135, 0.64623642, 0.63773225,\n",
       "        0.63466389, 0.64212767, 0.64751096, 0.64952247, 0.62796489,\n",
       "        0.64301928, 0.64457299, 0.65580877, 0.64637477, 0.66120202,\n",
       "        0.64508626, 0.6264414 , 0.64137822, 0.62572067, 0.64208487,\n",
       "        0.64782886, 0.64932398, 0.64248337, 0.66683548, 0.65060268,\n",
       "        0.66058062, 0.63703425, 0.65150345, 0.6542121 , 0.64376945,\n",
       "        0.63330191, 0.66085081, 0.65287185, 0.64871791, 0.64484554,\n",
       "        0.64754244, 0.64154371, 0.64256913, 0.63593719, 0.6452236 ,\n",
       "        0.6543775 , 0.64053478, 0.65003197, 0.66261305, 0.62577816,\n",
       "        0.65645923, 0.61618447, 0.63439335, 0.64006971, 0.65061005,\n",
       "        0.65143938, 0.65875722, 0.6479139 , 0.64165837, 0.66244864,\n",
       "        0.64858721, 0.63923692, 0.63246514, 0.64112927, 0.65447235,\n",
       "        0.62161796, 0.62061978, 0.62660009, 0.65952626, 0.63592569,\n",
       "        0.64589851, 0.64858605, 0.65256925, 0.6109868 , 0.62457411,\n",
       "        0.63425203, 0.63806264, 0.63048657, 0.64207867, 0.65455019,\n",
       "        0.65263564, 0.64191954, 0.61524639, 0.65288993, 0.65809602,\n",
       "        0.65101074, 0.65151473, 0.65987614, 0.65440044, 0.65181071,\n",
       "        0.62213615, 0.6380925 , 0.66463292, 0.65436331, 0.6407511 ,\n",
       "        0.63673566, 0.64061325, 0.65534519, 0.6589028 , 0.66063553,\n",
       "        0.64165535, 0.64741918, 0.62534334, 0.64551785, 0.6482159 ,\n",
       "        0.6490781 , 0.62347593, 0.64268693, 0.65118655, 0.6369861 ,\n",
       "        0.63677411, 0.65651389, 0.64829977, 0.66412445, 0.6398167 ,\n",
       "        0.66364869, 0.64511278, 0.65931406, 0.64634926, 0.62473735,\n",
       "        0.64214784, 0.655211  , 0.6528498 , 0.6534507 , 0.65363646,\n",
       "        0.6566953 , 0.64823557, 0.63997846, 0.62212581, 0.66188541,\n",
       "        0.6416743 , 0.64911029, 0.6356091 , 0.65829179, 0.63721663,\n",
       "        0.64213809, 0.65019708, 0.65560828, 0.63930169, 0.64473074,\n",
       "        0.63908928, 0.6475821 , 0.61338588, 0.61112924, 0.64443688,\n",
       "        0.65102961, 0.64438973, 0.64416115, 0.60477917, 0.62798773,\n",
       "        0.64834588, 0.65608268, 0.61244414, 0.59455789, 0.64627599,\n",
       "        0.64985573, 0.63984566, 0.6643049 , 0.61315918, 0.60578943,\n",
       "        0.63346553, 0.60941689, 0.6492993 , 0.65679055, 0.65092598,\n",
       "        0.63821358, 0.64352494, 0.6576854 , 0.63943905, 0.65778355,\n",
       "        0.64660403, 0.65997065, 0.63040731, 0.64242033, 0.65733742,\n",
       "        0.63320612, 0.65668531, 0.63446307, 0.65069362, 0.63550973,\n",
       "        0.66619219, 0.65986902, 0.6446628 , 0.61982476, 0.62608059,\n",
       "        0.65202103, 0.62821925, 0.64562257, 0.62117548, 0.64033169,\n",
       "        0.63685389, 0.65648697, 0.65583483, 0.6507034 , 0.64456425,\n",
       "        0.6591346 , 0.64101725, 0.62075037, 0.64202054, 0.63180994,\n",
       "        0.64128798, 0.64764611, 0.65615418, 0.63546558, 0.6564471 ,\n",
       "        0.64100151, 0.66377342, 0.63689586, 0.6284374 , 0.66206883,\n",
       "        0.65760976, 0.64355647, 0.65882994, 0.66450847, 0.62504069,\n",
       "        0.65683937, 0.60689148, 0.65567847, 0.63355784, 0.63795804,\n",
       "        0.66123336, 0.66176523, 0.65400278, 0.60758839, 0.65341306,\n",
       "        0.66513998, 0.65483738, 0.65681927, 0.66548386, 0.65107566,\n",
       "        0.64560878, 0.65265372, 0.64897617, 0.66205526, 0.6416826 ,\n",
       "        0.65380255, 0.63601849, 0.6154925 , 0.65229016, 0.64689807,\n",
       "        0.61224064, 0.65135905, 0.64915329, 0.66218207, 0.65406479,\n",
       "        0.66063378, 0.64863404, 0.65154262, 0.65610099, 0.60569239,\n",
       "        0.65838354, 0.65023611, 0.65135054, 0.64890352, 0.65270702,\n",
       "        0.65219462, 0.65237798, 0.62634879, 0.64728374]])"
      ]
     },
     "execution_count": 31,
     "metadata": {},
     "output_type": "execute_result"
    }
   ],
   "source": [
    "corr_list"
   ]
  },
  {
   "cell_type": "code",
   "execution_count": 32,
   "id": "1c36a7b8",
   "metadata": {},
   "outputs": [
    {
     "data": {
      "text/plain": [
       "array([[-0.01898793],\n",
       "       [-0.12580654],\n",
       "       [-0.13575253],\n",
       "       [ 0.22592146],\n",
       "       [ 0.19184402],\n",
       "       [-0.07289691],\n",
       "       [-0.12137675],\n",
       "       [ 0.02318787],\n",
       "       [ 0.03357935],\n",
       "       [-0.09152612],\n",
       "       [-0.01879594],\n",
       "       [-0.18409787],\n",
       "       [-0.23177859],\n",
       "       [-0.18904526],\n",
       "       [-0.11510876],\n",
       "       [ 0.03083896],\n",
       "       [ 0.04598697],\n",
       "       [ 0.02595594],\n",
       "       [ 0.06058229],\n",
       "       [ 0.01089066],\n",
       "       [-0.07134465],\n",
       "       [ 0.02371628],\n",
       "       [ 0.04927165],\n",
       "       [ 0.09512222],\n",
       "       [ 0.0364007 ],\n",
       "       [ 0.03818107],\n",
       "       [ 0.04339881],\n",
       "       [ 0.09322148],\n",
       "       [ 0.20346797],\n",
       "       [ 0.16563381],\n",
       "       [-0.02372869],\n",
       "       [-0.57160273],\n",
       "       [-0.51359215],\n",
       "       [ 0.05590007],\n",
       "       [ 0.09723129]])"
      ]
     },
     "execution_count": 32,
     "metadata": {},
     "output_type": "execute_result"
    }
   ],
   "source": [
    "a/np.linalg.norm(a)"
   ]
  },
  {
   "cell_type": "code",
   "execution_count": 33,
   "id": "598c8b90",
   "metadata": {},
   "outputs": [],
   "source": [
    "cca = CCA(n_components=4,max_iter=60000)\n",
    "cca.fit(X, Y)\n",
    "X_c, Y_c = cca.transform(X, Y)"
   ]
  },
  {
   "cell_type": "code",
   "execution_count": 34,
   "id": "70f1f971",
   "metadata": {},
   "outputs": [
    {
     "data": {
      "text/plain": [
       "array([[ 6.27041385e-02,  2.07887706e-01,  4.41488273e-01,\n",
       "         2.65301135e-01],\n",
       "       [ 1.80173189e-01, -1.03716291e-01, -1.27422585e-01,\n",
       "        -1.98078110e-01],\n",
       "       [ 1.21596283e-01, -1.90761168e-01,  1.47166403e-01,\n",
       "        -5.31539722e-02],\n",
       "       [-1.77411915e-01, -2.48091715e-01,  4.69034746e-03,\n",
       "         1.73890235e-01],\n",
       "       [-1.95834862e-01,  1.80638057e-01, -1.86595506e-01,\n",
       "        -6.04329206e-02],\n",
       "       [ 1.43190348e-02,  5.45486602e-02, -5.49307337e-02,\n",
       "        -1.30584767e-01],\n",
       "       [ 1.44348168e-02, -2.34758352e-02,  1.58661384e-02,\n",
       "         2.89268783e-02],\n",
       "       [ 7.12061827e-16, -3.30828449e-16,  7.06403448e-16,\n",
       "         1.25190211e-16],\n",
       "       [-1.32139557e-16,  2.67247521e-16, -3.91301599e-16,\n",
       "         4.97611382e-16],\n",
       "       [ 7.76877878e-04, -1.69607512e-02,  7.81815631e-03,\n",
       "         4.99476161e-02],\n",
       "       [-6.03091144e-03, -7.16776691e-02,  2.33866605e-02,\n",
       "         3.04618693e-02],\n",
       "       [ 1.04126868e-01, -3.05897986e-02, -1.40642333e-01,\n",
       "         1.55874440e-01],\n",
       "       [ 2.19022768e-01, -1.03289365e-01, -2.87759247e-01,\n",
       "         2.17413912e-01],\n",
       "       [ 1.47440341e-01,  1.05724290e-01, -2.96164487e-01,\n",
       "         1.04507890e-01],\n",
       "       [ 1.39850851e-01,  8.02727527e-02, -2.91082484e-01,\n",
       "         2.09757846e-01],\n",
       "       [ 1.72323385e-02,  8.61751918e-02, -7.55069077e-02,\n",
       "         9.07565524e-02],\n",
       "       [-6.93080724e-02,  4.33630523e-02,  2.23082393e-01,\n",
       "        -1.30533142e-02],\n",
       "       [-4.42672181e-02,  3.31988916e-02,  1.71053792e-01,\n",
       "        -5.85293608e-02],\n",
       "       [-5.16093308e-02, -2.03996600e-02,  2.25404964e-01,\n",
       "        -1.34640652e-01],\n",
       "       [-2.88238857e-02, -9.46714487e-03,  4.41762933e-02,\n",
       "        -5.96862596e-02],\n",
       "       [ 5.36467654e-02,  2.72426318e-02,  9.73014766e-02,\n",
       "         9.91165407e-02],\n",
       "       [-6.72112606e-03,  8.23245692e-03,  1.71812446e-01,\n",
       "         2.58445461e-01],\n",
       "       [ 3.73064606e-03,  4.63093648e-02, -2.20227901e-02,\n",
       "        -8.60788179e-02],\n",
       "       [-7.91678511e-02, -7.02411242e-02, -8.37416280e-02,\n",
       "        -2.34600958e-01],\n",
       "       [-2.37256189e-02,  6.61774644e-03, -1.45668031e-01,\n",
       "        -1.22960552e-01],\n",
       "       [-3.22373592e-02, -4.94690793e-02, -1.11741506e-01,\n",
       "        -7.43918096e-02],\n",
       "       [-3.51825897e-02, -4.28723104e-02, -7.90257830e-02,\n",
       "        -5.64224285e-02],\n",
       "       [-6.47826826e-02, -1.49448542e-01,  2.30487707e-02,\n",
       "        -2.91065396e-01],\n",
       "       [-2.28678951e-01, -1.33845056e-01, -2.76711533e-01,\n",
       "        -1.24759461e-01],\n",
       "       [-2.23693217e-01,  2.34618734e-01,  6.17529107e-02,\n",
       "         4.05855742e-01],\n",
       "       [-7.95326392e-02,  5.52673182e-01, -3.35888020e-01,\n",
       "         8.70760739e-02],\n",
       "       [ 6.20345758e-01,  3.92314947e-01,  1.58580134e-01,\n",
       "        -2.24814641e-01],\n",
       "       [ 5.07789232e-01, -3.42072630e-01, -1.01501428e-01,\n",
       "         1.57876466e-01],\n",
       "       [ 1.31218894e-02, -2.86836424e-01, -1.35028575e-02,\n",
       "         3.94206896e-01],\n",
       "       [-1.13241568e-02, -1.42767259e-02,  1.26776430e-02,\n",
       "         7.74010053e-02]])"
      ]
     },
     "execution_count": 34,
     "metadata": {},
     "output_type": "execute_result"
    }
   ],
   "source": [
    "cca.x_weights_"
   ]
  },
  {
   "cell_type": "code",
   "execution_count": 35,
   "id": "e51e64ec",
   "metadata": {},
   "outputs": [
    {
     "data": {
      "text/plain": [
       "0.412285316090306"
      ]
     },
     "execution_count": 35,
     "metadata": {},
     "output_type": "execute_result"
    }
   ],
   "source": [
    "np.corrcoef(X_c.T,Y_c.T)[2,6]"
   ]
  }
 ],
 "metadata": {
  "kernelspec": {
   "display_name": "Python 3 (ipykernel)",
   "language": "python",
   "name": "python3"
  },
  "language_info": {
   "codemirror_mode": {
    "name": "ipython",
    "version": 3
   },
   "file_extension": ".py",
   "mimetype": "text/x-python",
   "name": "python",
   "nbconvert_exporter": "python",
   "pygments_lexer": "ipython3",
   "version": "3.9.7"
  }
 },
 "nbformat": 4,
 "nbformat_minor": 5
}
